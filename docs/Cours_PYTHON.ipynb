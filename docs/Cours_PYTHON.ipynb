{
 "cells": [
  {
   "cell_type": "markdown",
   "metadata": {
    "slideshow": {
     "slide_type": "slide"
    }
   },
   "source": [
    "# Cours Python\n",
    "\n",
    "\n",
    "Cette page est un [jupyter notebook](https://jupyter.org/), vous pouvez télécharger ce fichier avec son extension `.ipynb` en cliquant sur le bouton en haut à droite afin de l'éditer sur votre iPad en local avec l'application [Carnets](https://holzschu.github.io/Carnets_Jupyter/) ou encore en ligne avec [Basthon](https://notebook.basthon.fr/).\n",
    "\n",
    "---"
   ]
  },
  {
   "cell_type": "markdown",
   "metadata": {
    "slideshow": {
     "slide_type": "slide"
    }
   },
   "source": [
    "## Récursivité\n",
    "Pour plus d'explication voir [Cours_Algo](https://wenmad.github.io/Cours_INF1/Cours_Algo/#recursivite)\n"
   ]
  },
  {
   "cell_type": "markdown",
   "metadata": {},
   "source": [
    "- Factorielle :"
   ]
  },
  {
   "cell_type": "code",
   "execution_count": 1,
   "metadata": {},
   "outputs": [],
   "source": [
    "def factorielle(n):\n",
    "    if n > 1:\n",
    "        return n * factorielle(n-1)\n",
    "    else:\n",
    "        return 1"
   ]
  },
  {
   "cell_type": "markdown",
   "metadata": {},
   "source": [
    "- Somme des n premiers nombres"
   ]
  },
  {
   "cell_type": "code",
   "execution_count": 2,
   "metadata": {},
   "outputs": [],
   "source": [
    "def somme(n):\n",
    "    if n==0:\n",
    "        return 0\n",
    "    else:\n",
    "        return somme(n-1)+n"
   ]
  },
  {
   "cell_type": "markdown",
   "metadata": {},
   "source": [
    "- Saisie de phrase"
   ]
  },
  {
   "cell_type": "markdown",
   "metadata": {},
   "source": [
    "A compléter"
   ]
  },
  {
   "cell_type": "markdown",
   "metadata": {},
   "source": [
    "- Cosinus et sinus"
   ]
  },
  {
   "cell_type": "code",
   "execution_count": 5,
   "metadata": {},
   "outputs": [],
   "source": [
    "\n",
    "    #A compléter"
   ]
  },
  {
   "cell_type": "markdown",
   "metadata": {},
   "source": [
    "- Hanoi"
   ]
  },
  {
   "cell_type": "code",
   "execution_count": 7,
   "metadata": {},
   "outputs": [],
   "source": [
    "def HANOI(nb_disques,T_orig,T_dest,T_inter):\n",
    "    if nb_disques>0:\n",
    "        HANOI(nb_disques-1,T_orig,T_inter,T_dest)\n",
    "        print(\"Déplacer le disque de\",T_orig,\"à\",T_dest)\n",
    "        HANOI(nb_disques-1,T_inter,T_dest,T_orig)"
   ]
  },
  {
   "cell_type": "code",
   "execution_count": null,
   "metadata": {},
   "outputs": [],
   "source": []
  },
  {
   "cell_type": "markdown",
   "metadata": {},
   "source": [
    "## Types structurés\n",
    "(Types de données composites)"
   ]
  },
  {
   "cell_type": "markdown",
   "metadata": {},
   "source": [
    "Les types simples sont les :\n",
    "- Entiers\n",
    "- réels\n",
    "- "
   ]
  },
  {
   "cell_type": "markdown",
   "metadata": {},
   "source": [
    "Les types structurés sont les :\n",
    "- Dictionnaires\n",
    "- Named Tuples\n",
    "- Ensembles\n",
    "- Objets"
   ]
  },
  {
   "cell_type": "markdown",
   "metadata": {},
   "source": [
    "### Dictionaire\n"
   ]
  },
  {
   "cell_type": "markdown",
   "metadata": {},
   "source": [
    "C'est une structure de donnée associative, car elle permet de stocker une valeur en lui associant une clé, qui permet de retrouver la valeur associée."
   ]
  },
  {
   "cell_type": "code",
   "execution_count": 1,
   "metadata": {},
   "outputs": [],
   "source": [
    "monDico={'je':'I','vous':'you'}"
   ]
  },
  {
   "cell_type": "markdown",
   "metadata": {},
   "source": [
    "'je' et 'vous' sont des clés, 'I' et 'you' leurs éléments associes"
   ]
  },
  {
   "cell_type": "markdown",
   "metadata": {},
   "source": [
    "Un dictionnaire est une structure non ordonnée et mutable (modifiables) dont les clés sont uniques. Leurs éléments associés peuvent être de plusieurs types"
   ]
  },
  {
   "cell_type": "markdown",
   "metadata": {},
   "source": [
    "Les clés peuvent être de tout type non modifiable  \n",
    "Les valeurs associées peuvent être de tout type"
   ]
  },
  {
   "cell_type": "markdown",
   "metadata": {},
   "source": [
    "Syntaxe :\n",
    "- Un dictionnaire se note entre accolades\n",
    "- Les éléments sont séparés par des virgules\n",
    "- Chaque élément est une paire d'objets ('clé' : 'valeur')"
   ]
  },
  {
   "cell_type": "markdown",
   "metadata": {},
   "source": [
    "Initialiser une variable de type enregistrement :"
   ]
  },
  {
   "cell_type": "code",
   "execution_count": 10,
   "metadata": {},
   "outputs": [],
   "source": [
    "n1 = dict(valeur=15, coefficient=1.5, matiere=\"programmation\")"
   ]
  },
  {
   "cell_type": "code",
   "execution_count": 11,
   "metadata": {},
   "outputs": [
    {
     "name": "stdout",
     "output_type": "stream",
     "text": [
      "{'valeur': 15, 'coefficient': 1.5, 'matiere': 'programmation'}\n"
     ]
    }
   ],
   "source": [
    "print(n1)"
   ]
  },
  {
   "cell_type": "code",
   "execution_count": 12,
   "metadata": {},
   "outputs": [
    {
     "name": "stdout",
     "output_type": "stream",
     "text": [
      "15\n"
     ]
    }
   ],
   "source": [
    "print(n1[\"valeur\"])"
   ]
  },
  {
   "cell_type": "markdown",
   "metadata": {},
   "source": [
    "Modifier la valeur d'un champ d'un enregistrement :"
   ]
  },
  {
   "cell_type": "code",
   "execution_count": 18,
   "metadata": {},
   "outputs": [],
   "source": [
    "n1[\"coefficient\"] =2,5"
   ]
  },
  {
   "cell_type": "code",
   "execution_count": 15,
   "metadata": {},
   "outputs": [
    {
     "name": "stdout",
     "output_type": "stream",
     "text": [
      "{'valeur': 15, 'coefficient': (2, 5), 'matiere': 'programmation'}\n"
     ]
    }
   ],
   "source": [
    "print(n1)"
   ]
  },
  {
   "cell_type": "code",
   "execution_count": 9,
   "metadata": {},
   "outputs": [
    {
     "name": "stdout",
     "output_type": "stream",
     "text": [
      "True\n",
      "False\n"
     ]
    }
   ],
   "source": [
    "print (\"valeur\" in n1)\n",
    "print(\"moyenne\" in n1)"
   ]
  },
  {
   "cell_type": "markdown",
   "metadata": {},
   "source": [
    "Ajouter une clé :"
   ]
  },
  {
   "cell_type": "code",
   "execution_count": 17,
   "metadata": {},
   "outputs": [
    {
     "name": "stdout",
     "output_type": "stream",
     "text": [
      "{'valeur': 15, 'coefficient': (2, 5), 'matiere': 'programmation', 'prénom': 'lucas'}\n"
     ]
    }
   ],
   "source": [
    "n1[\"prénom\"]= \"lucas\"\n",
    "print(n1)"
   ]
  },
  {
   "cell_type": "markdown",
   "metadata": {},
   "source": [
    "Les dictionnaires sont très pratiques lorsque l'on doit manipuler des structures complexes à décrire, là où les listes seraient beaucoup trop encombrantes."
   ]
  },
  {
   "cell_type": "markdown",
   "metadata": {},
   "source": [
    "Il existes plusieurs fonctions intégrées qui permettent de bien tirer partie des dictionnaires notamment. La fonction intégrée `.values()` ou `.key()` qui renvoie une liste contenant le type\n",
    "d’éléments appelés."
   ]
  },
  {
   "cell_type": "markdown",
   "metadata": {},
   "source": [
    "### Named tuple\n",
    "(ou collection)"
   ]
  },
  {
   "cell_type": "markdown",
   "metadata": {},
   "source": [
    "Les collections sont des types de données de conteneurs spécialisées apportant des alternatives aux conteneurs natifs de Python plus généraux comme dict, list, set et tuple"
   ]
  },
  {
   "cell_type": "markdown",
   "metadata": {},
   "source": [
    "Un Named Tuple est une fonction permettant de créer des sous-classes de tuple avec des champs nommés.  \n",
    "Ils peuvent être utilisés partout où les tuples natifs sont utilisés, et ils ajoutent la possibilité d'accéder à leur champs grâce à leur nom au lieu de leur index de position.  \n",
    "Tout comme les tuples, les Named Tuples sont immutables."
   ]
  },
  {
   "cell_type": "markdown",
   "metadata": {},
   "source": [
    "Définir un nouveau type de named tuple avec la liste des attributs qu'il va contenir"
   ]
  },
  {
   "cell_type": "code",
   "execution_count": 19,
   "metadata": {},
   "outputs": [],
   "source": [
    "from collections import namedtuple"
   ]
  },
  {
   "cell_type": "code",
   "execution_count": 20,
   "metadata": {},
   "outputs": [],
   "source": [
    "Joueur=namedtuple('Joueur', ['nom','age','signe_particulier'])\n",
    "jdg = Joueur('M.Grenier', 31, 'Un langage fleuri')"
   ]
  },
  {
   "cell_type": "code",
   "execution_count": 26,
   "metadata": {},
   "outputs": [
    {
     "name": "stdout",
     "output_type": "stream",
     "text": [
      "Joueur(nom='M.Grenier', age=31, signe_particulier='Un langage fleuri')\n"
     ]
    }
   ],
   "source": [
    "print(jdg)"
   ]
  },
  {
   "cell_type": "code",
   "execution_count": 27,
   "metadata": {},
   "outputs": [
    {
     "name": "stdout",
     "output_type": "stream",
     "text": [
      "M.Grenier\n",
      "M.Grenier\n",
      "M.Grenier\n"
     ]
    }
   ],
   "source": [
    "print(jdg[0])\n",
    "\n",
    "nom, age, signe = jdg\n",
    "print(nom)\n",
    "\n",
    "print(jdg.nom)"
   ]
  },
  {
   "cell_type": "markdown",
   "metadata": {},
   "source": [
    "### Ensembles"
   ]
  },
  {
   "cell_type": "markdown",
   "metadata": {},
   "source": [
    "Un ensemble ou `set` forme un autre type de données composites Python. Un ensemble est une collection d'éléments non ordonnée, sans index et qui ne peut pas posséder d'élément dupliqué"
   ]
  },
  {
   "cell_type": "markdown",
   "metadata": {},
   "source": [
    "La fonction `set()` permet d’éliminer les duplicatas et transforme la liste en ensemble."
   ]
  },
  {
   "cell_type": "code",
   "execution_count": 28,
   "metadata": {},
   "outputs": [],
   "source": [
    "tirage=[]\n",
    "tirage=[3,5,8]\n",
    "tirage=set([4,8,6]+[3,7,5,8])"
   ]
  },
  {
   "cell_type": "code",
   "execution_count": 29,
   "metadata": {},
   "outputs": [
    {
     "name": "stdout",
     "output_type": "stream",
     "text": [
      "{3, 4, 5, 6, 7, 8}\n"
     ]
    }
   ],
   "source": [
    "print(tirage)"
   ]
  },
  {
   "cell_type": "markdown",
   "metadata": {},
   "source": [
    "Voir exemples cours"
   ]
  },
  {
   "cell_type": "code",
   "execution_count": 1,
   "metadata": {},
   "outputs": [
    {
     "name": "stdout",
     "output_type": "stream",
     "text": [
      "{9, 2} {3, 7}\n"
     ]
    }
   ],
   "source": [
    "A={2,5,9}\n",
    "B={3,5,7}\n",
    "C=A.difference(B)\n",
    "D=B-A\n",
    "print(C,D)"
   ]
  },
  {
   "cell_type": "markdown",
   "metadata": {},
   "source": [
    "\n",
    "    c=int(input(\"Chiffre : \"))\n",
    "    if c in A:\n",
    "        la=True\n",
    "    else:\n",
    "        la=False\n",
    "    print(la)"
   ]
  },
  {
   "cell_type": "code",
   "execution_count": 3,
   "metadata": {},
   "outputs": [
    {
     "name": "stdout",
     "output_type": "stream",
     "text": [
      "ujnBor"
     ]
    }
   ],
   "source": [
    "s=set(\"Bonjour\")\n",
    "for n in s:\n",
    "    print(n, end=\"\")"
   ]
  },
  {
   "cell_type": "markdown",
   "metadata": {},
   "source": [
    "### Objets"
   ]
  },
  {
   "cell_type": "markdown",
   "metadata": {},
   "source": [
    "Les objets possèdent des attributs, il peut faire référence à d'autres objets. Les attributs des instances d'objets sont stockés dans un dictionnaire.  \n",
    "Une classe est définie par attributs (et des méthodes ---> Voir tout dernier cours)"
   ]
  },
  {
   "cell_type": "markdown",
   "metadata": {},
   "source": []
  },
  {
   "cell_type": "code",
   "execution_count": 5,
   "metadata": {},
   "outputs": [
    {
     "ename": "SyntaxError",
     "evalue": "invalid syntax (Temp/ipykernel_10976/1006004732.py, line 2)",
     "output_type": "error",
     "traceback": [
      "\u001b[1;36m  File \u001b[1;32m\"C:\\Users\\ewenm\\AppData\\Local\\Temp/ipykernel_10976/1006004732.py\"\u001b[1;36m, line \u001b[1;32m2\u001b[0m\n\u001b[1;33m    def__init__(self,nom1,age1):\u001b[0m\n\u001b[1;37m                                ^\u001b[0m\n\u001b[1;31mSyntaxError\u001b[0m\u001b[1;31m:\u001b[0m invalid syntax\n"
     ]
    }
   ],
   "source": [
    "class Etudiant:\n",
    "    def__init__(self,nom1,age1):\n",
    "        self.nom1=nom1\n",
    "        self.age1=age1\n",
    "\n",
    "etu2=Etudiant(\"toto\",20)\n",
    "print(etu2.nom1)\n",
    "\n"
   ]
  },
  {
   "cell_type": "markdown",
   "metadata": {},
   "source": [
    "### sur les types structurés"
   ]
  },
  {
   "cell_type": "code",
   "execution_count": null,
   "metadata": {},
   "outputs": [],
   "source": []
  }
 ],
 "metadata": {
  "celltoolbar": "Aucun(e)",
  "hide_input": false,
  "interpreter": {
   "hash": "ccc4431ae082e9247c2dfbfa7f24353da5bb150ab6e893d1689227d4aaa113ac"
  },
  "kernelspec": {
   "display_name": "Python 3.9.6 64-bit",
   "name": "python3"
  },
  "language_info": {
   "codemirror_mode": {
    "name": "ipython",
    "version": 3
   },
   "file_extension": ".py",
   "mimetype": "text/x-python",
   "name": "python",
   "nbconvert_exporter": "python",
   "pygments_lexer": "ipython3",
   "version": "3.9.6"
  },
  "toc": {
   "base_numbering": 1,
   "nav_menu": {},
   "number_sections": true,
   "sideBar": true,
   "skip_h1_title": false,
   "title_cell": "Table of Contents",
   "title_sidebar": "Contents",
   "toc_cell": false,
   "toc_position": {},
   "toc_section_display": true,
   "toc_window_display": false
  },
  "varInspector": {
   "cols": {
    "lenName": 16,
    "lenType": 16,
    "lenVar": 40
   },
   "kernels_config": {
    "python": {
     "delete_cmd_postfix": "",
     "delete_cmd_prefix": "del ",
     "library": "var_list.py",
     "varRefreshCmd": "print(var_dic_list())"
    },
    "r": {
     "delete_cmd_postfix": ") ",
     "delete_cmd_prefix": "rm(",
     "library": "var_list.r",
     "varRefreshCmd": "cat(var_dic_list()) "
    }
   },
   "types_to_exclude": [
    "module",
    "function",
    "builtin_function_or_method",
    "instance",
    "_Feature"
   ],
   "window_display": false
  }
 },
 "nbformat": 4,
 "nbformat_minor": 1
}
