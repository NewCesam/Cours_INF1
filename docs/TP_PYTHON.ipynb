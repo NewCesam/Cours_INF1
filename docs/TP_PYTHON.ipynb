{
 "cells": [
  {
   "cell_type": "markdown",
   "metadata": {
    "slideshow": {
     "slide_type": "slide"
    }
   },
   "source": [
    "# TP"
   ]
  },
  {
   "cell_type": "markdown",
   "metadata": {},
   "source": [
    "## TP 8"
   ]
  },
  {
   "cell_type": "markdown",
   "metadata": {},
   "source": [
    "### Exercice n°1\n",
    "1. Ecrire un programme en Python qui réalise la fonction récursive suivante:\n",
    "MYSTERE(X,Y) vaut X si Y=1\n",
    "vaut X + MYSTERE(X,Y-1) sinon"
   ]
  },
  {
   "cell_type": "code",
   "execution_count": null,
   "metadata": {},
   "outputs": [],
   "source": [
    "def MYSTERE(X,Y):\n",
    "    if Y==1:\n",
    "        return X\n",
    "    else:\n",
    "        return X+MYSTERE(X,Y-1)"
   ]
  },
  {
   "cell_type": "code",
   "execution_count": null,
   "metadata": {},
   "outputs": [
    {
     "name": "stdout",
     "output_type": "stream",
     "text": [
      "27\n"
     ]
    }
   ],
   "source": [
    "print(MYSTERE(3,9))"
   ]
  },
  {
   "cell_type": "markdown",
   "metadata": {},
   "source": [
    "2. Préciser ce que fait cette fonction (X et Y entiers naturels) (multiplication). Pour\n",
    "confirmer, une simulation effectuée sur un exemple simple sera la bienvenue."
   ]
  },
  {
   "cell_type": "markdown",
   "metadata": {},
   "source": [
    "Cette fonction multiplie les deux termes. Exemple ci-dessus."
   ]
  },
  {
   "cell_type": "markdown",
   "metadata": {},
   "source": [
    "### Exercice n°2"
   ]
  },
  {
   "cell_type": "markdown",
   "metadata": {},
   "source": [
    "Ecrire une procédure récursive AfficheChiffres() qui affiche les chiffres d’un nombre\n",
    "entier séparés par une barre de division (barre oblique). Par exemple :\n",
    "AfficheChiffres(123) affichera : 1 / 2 / 3\n"
   ]
  },
  {
   "cell_type": "markdown",
   "metadata": {},
   "source": [
    "\n",
    "    AfficheChiffres(N):\n",
    "        N : entier\n",
    "        si N/10 < 1\n",
    "            alors\n",
    "                retourner N\n",
    "        sinon\n",
    "            "
   ]
  },
  {
   "cell_type": "code",
   "execution_count": null,
   "metadata": {},
   "outputs": [
    {
     "ename": "Error",
     "evalue": "Session cannot generate requests",
     "output_type": "error",
     "traceback": [
      "Error: Session cannot generate requests\n",
      "at S.executeCodeCell (c:\\Users\\ewenm\\.vscode\\extensions\\ms-toolsai.jupyter-2021.10.1101450599\\out\\client\\extension.js:66:301742)\n",
      "at S.execute (c:\\Users\\ewenm\\.vscode\\extensions\\ms-toolsai.jupyter-2021.10.1101450599\\out\\client\\extension.js:66:300732)\n",
      "at S.start (c:\\Users\\ewenm\\.vscode\\extensions\\ms-toolsai.jupyter-2021.10.1101450599\\out\\client\\extension.js:66:296408)\n",
      "at runMicrotasks (<anonymous>)\n",
      "at processTicksAndRejections (internal/process/task_queues.js:93:5)\n",
      "at async t.CellExecutionQueue.executeQueuedCells (c:\\Users\\ewenm\\.vscode\\extensions\\ms-toolsai.jupyter-2021.10.1101450599\\out\\client\\extension.js:66:312326)\n",
      "at async t.CellExecutionQueue.start (c:\\Users\\ewenm\\.vscode\\extensions\\ms-toolsai.jupyter-2021.10.1101450599\\out\\client\\extension.js:66:311862)"
     ]
    }
   ],
   "source": [
    "def AfficheChiffres(c):\n",
    "    c=str(c)\n",
    "    if len(c)==0:\n",
    "        return c\n",
    "    return c[0] + \"/\" + AfficheChiffres(c[1:]) "
   ]
  },
  {
   "cell_type": "code",
   "execution_count": null,
   "metadata": {},
   "outputs": [],
   "source": [
    "\n",
    "nb = int(input(\"Entrer un nombre entier :\"))\n",
    "carac=str(nb)\n",
    "print(\"les chiffres du nombres \",carac,\" sont: \",AfficheChiffres(carac))"
   ]
  },
  {
   "cell_type": "markdown",
   "metadata": {},
   "source": [
    "### Exercice n°3"
   ]
  },
  {
   "cell_type": "markdown",
   "metadata": {},
   "source": [
    "Écrire une fonction récursive ‘add(x,y)’ qui fasse l'addition de 2 nombres entiers naturels\n",
    "x et y. Vous ne pouvez utiliser les opérateurs ‘+’ et ‘-‘ que si l’un des deux opérandes est\n",
    "0 ou 1.\n"
   ]
  },
  {
   "cell_type": "code",
   "execution_count": null,
   "metadata": {},
   "outputs": [
    {
     "ename": "Error",
     "evalue": "Session cannot generate requests",
     "output_type": "error",
     "traceback": [
      "Error: Session cannot generate requests\n",
      "at S.executeCodeCell (c:\\Users\\ewenm\\.vscode\\extensions\\ms-toolsai.jupyter-2021.10.1101450599\\out\\client\\extension.js:66:301742)\n",
      "at S.execute (c:\\Users\\ewenm\\.vscode\\extensions\\ms-toolsai.jupyter-2021.10.1101450599\\out\\client\\extension.js:66:300732)\n",
      "at S.start (c:\\Users\\ewenm\\.vscode\\extensions\\ms-toolsai.jupyter-2021.10.1101450599\\out\\client\\extension.js:66:296408)\n",
      "at runMicrotasks (<anonymous>)\n",
      "at processTicksAndRejections (internal/process/task_queues.js:93:5)\n",
      "at async t.CellExecutionQueue.executeQueuedCells (c:\\Users\\ewenm\\.vscode\\extensions\\ms-toolsai.jupyter-2021.10.1101450599\\out\\client\\extension.js:66:312326)\n",
      "at async t.CellExecutionQueue.start (c:\\Users\\ewenm\\.vscode\\extensions\\ms-toolsai.jupyter-2021.10.1101450599\\out\\client\\extension.js:66:311862)"
     ]
    }
   ],
   "source": [
    "def add(x, y):\n",
    "    if y == 0:\n",
    "        return x\n",
    "    if y > 0:\n",
    "        return 1 + add(x, y-1)\n",
    "    return  add(x, y+1) - 1\n",
    "\n"
   ]
  },
  {
   "cell_type": "code",
   "execution_count": null,
   "metadata": {},
   "outputs": [
    {
     "ename": "Error",
     "evalue": "Session cannot generate requests",
     "output_type": "error",
     "traceback": [
      "Error: Session cannot generate requests\n",
      "at S.executeCodeCell (c:\\Users\\ewenm\\.vscode\\extensions\\ms-toolsai.jupyter-2021.10.1101450599\\out\\client\\extension.js:66:301742)\n",
      "at S.execute (c:\\Users\\ewenm\\.vscode\\extensions\\ms-toolsai.jupyter-2021.10.1101450599\\out\\client\\extension.js:66:300732)\n",
      "at S.start (c:\\Users\\ewenm\\.vscode\\extensions\\ms-toolsai.jupyter-2021.10.1101450599\\out\\client\\extension.js:66:296408)\n",
      "at runMicrotasks (<anonymous>)\n",
      "at processTicksAndRejections (internal/process/task_queues.js:93:5)\n",
      "at async t.CellExecutionQueue.executeQueuedCells (c:\\Users\\ewenm\\.vscode\\extensions\\ms-toolsai.jupyter-2021.10.1101450599\\out\\client\\extension.js:66:312326)\n",
      "at async t.CellExecutionQueue.start (c:\\Users\\ewenm\\.vscode\\extensions\\ms-toolsai.jupyter-2021.10.1101450599\\out\\client\\extension.js:66:311862)"
     ]
    }
   ],
   "source": [
    "print(\"---addition de deux nombres\")\n",
    "nombre1 = int(input(\"Entrer un nombre:\\n\"))\n",
    "nombre2 = int(input(\"Entrer un nombre:\\n\"))\n",
    "print(\"l'addition des nombres \",nombre1,\" et \", nombre2,\" est \", add(nombre1,nombre2))"
   ]
  },
  {
   "cell_type": "markdown",
   "metadata": {},
   "source": [
    "### Exercice n°4"
   ]
  },
  {
   "cell_type": "markdown",
   "metadata": {},
   "source": [
    "Écrire ensuite une autre fonction récursive qui multiplie deux nombres entiers naturels n et\n",
    "m. Vous devez utiliser la première fonction ‘add(x,y)’ définie précédemment. "
   ]
  },
  {
   "cell_type": "code",
   "execution_count": null,
   "metadata": {},
   "outputs": [
    {
     "ename": "Error",
     "evalue": "Session cannot generate requests",
     "output_type": "error",
     "traceback": [
      "Error: Session cannot generate requests\n",
      "at S.executeCodeCell (c:\\Users\\ewenm\\.vscode\\extensions\\ms-toolsai.jupyter-2021.10.1101450599\\out\\client\\extension.js:66:301742)\n",
      "at S.execute (c:\\Users\\ewenm\\.vscode\\extensions\\ms-toolsai.jupyter-2021.10.1101450599\\out\\client\\extension.js:66:300732)\n",
      "at S.start (c:\\Users\\ewenm\\.vscode\\extensions\\ms-toolsai.jupyter-2021.10.1101450599\\out\\client\\extension.js:66:296408)\n",
      "at runMicrotasks (<anonymous>)\n",
      "at processTicksAndRejections (internal/process/task_queues.js:93:5)\n",
      "at async t.CellExecutionQueue.executeQueuedCells (c:\\Users\\ewenm\\.vscode\\extensions\\ms-toolsai.jupyter-2021.10.1101450599\\out\\client\\extension.js:66:312326)\n",
      "at async t.CellExecutionQueue.start (c:\\Users\\ewenm\\.vscode\\extensions\\ms-toolsai.jupyter-2021.10.1101450599\\out\\client\\extension.js:66:311862)"
     ]
    }
   ],
   "source": [
    "def mul(x, y):\n",
    "    if x==0 or y==0:\n",
    "        return 0\n",
    "    elif x<0 and y<0:\n",
    "        return add(-y, mul(-x-1,y))\n",
    "    elif x<0 and y>0:\n",
    "        return add(x, mul(x,y-1))\n",
    "    else:\n",
    "        return add(y, mul(x-1,y))"
   ]
  },
  {
   "cell_type": "markdown",
   "metadata": {},
   "source": [
    "## TP 9"
   ]
  },
  {
   "cell_type": "markdown",
   "metadata": {},
   "source": [
    "### Exercice n°1"
   ]
  },
  {
   "cell_type": "markdown",
   "metadata": {},
   "source": [
    "On souhaite pouvoir gérer des listes de personnes membres d’un club. Les informations à\n",
    "conserver sont : nom, prénom et adresse des adhérents. Il faut pouvoir effectuer la recherche en\n",
    "fonction du nom ou du prénom (Quelles sont les personnes appelées ‘Dupont’ ? Quels sont les\n",
    "membres dont le prénom est ‘Zoé’ ? ... ).  \n",
    "Utiliser une structure de données permettant de gérer cette situation, en utilisant des tableaux et\n",
    "des structures. Imaginez comment structurer cela en Python."
   ]
  },
  {
   "cell_type": "markdown",
   "metadata": {},
   "source": [
    "1) Ecrire une procédure ou fonction permettant de saisir quelques données (des membres du club)."
   ]
  },
  {
   "cell_type": "code",
   "execution_count": null,
   "metadata": {},
   "outputs": [],
   "source": [
    "from collections import namedtuple\n",
    "\n",
    "membre = namedtuple('Membre',['Nom','Prénom','Adresse'])\n"
   ]
  },
  {
   "cell_type": "code",
   "execution_count": null,
   "metadata": {},
   "outputs": [],
   "source": [
    "class membre:\n",
    "    def __init__(self, nom, prenom, adresse):\n",
    "        self.nom=nom\n",
    "        self.prenom=prenom\n",
    "        self.adresse=adresse"
   ]
  },
  {
   "cell_type": "code",
   "execution_count": null,
   "metadata": {},
   "outputs": [],
   "source": [
    "def Ajout(Tab):\n",
    "    membre={}\n",
    "    membre[\"nom\"]=input(\"Entrez le nom du membre\")\n",
    "    membre[\"prenom\"]=input(\"Entrez le prénom du membre\")\n",
    "    membre[\"adresse\"]=input(\"Entrez l'adresse du membre\")\n",
    "    Tab.append(membre)"
   ]
  },
  {
   "cell_type": "markdown",
   "metadata": {},
   "source": [
    "2. Ecrire une fonction qui prend en paramètre un prénom donné, et renvoie la position de la\n",
    "première occurrence de ce prénom dans le tableau associé. La fonction prendra la valeur 0\n",
    "si ce prénom n’existe pas dans le tableau.\n"
   ]
  },
  {
   "cell_type": "code",
   "execution_count": null,
   "metadata": {},
   "outputs": [],
   "source": [
    "def Prem_ocu(Tab,p):\n",
    "    i,found=0\n",
    "    while i<len(Tab) and found==0:\n",
    "        if Tab[i][\"prenom\"]==p:\n",
    "            found=1\n",
    "        i=i+1\n",
    "    if found==0:\n",
    "        return 0\n",
    "    else:\n",
    "        return i"
   ]
  },
  {
   "cell_type": "markdown",
   "metadata": {},
   "source": [
    "3. Ecrire une fonction qui prend en paramètre un prénom donné, et renvoie la position de la\n",
    "dernière occurrence de ce prénom dans le tableau associé. La fonction prendra la valeur 0 si\n",
    "ce prénom n’existe pas dans le tableau."
   ]
  },
  {
   "cell_type": "code",
   "execution_count": null,
   "metadata": {},
   "outputs": [],
   "source": [
    "def Der_ocu(Tab,p):\n",
    "    ocu,found=0\n",
    "    for i in range(len(Tab)):\n",
    "        if Tab[i][\"prenom\"]==p:\n",
    "            ocu=i\n",
    "            found=1\n",
    "    if found==0:\n",
    "        return 0\n",
    "    else:\n",
    "        return ocu"
   ]
  },
  {
   "cell_type": "markdown",
   "metadata": {},
   "source": [
    "4. Ecrire une procédure ou fonction qui prend en paramètre un prénom donné, et affiche à\n",
    "l’écran la position de toutes les occurrences de ce prénom dans le tableau associé."
   ]
  },
  {
   "cell_type": "code",
   "execution_count": null,
   "metadata": {},
   "outputs": [],
   "source": [
    "def Recherche_prenom(Tab,p):\n",
    "    found=0\n",
    "    for i in range(len(Tab)):\n",
    "        if Tab[i][\"prenom\"]==p:\n",
    "            print(i)\n",
    "            found=1\n",
    "    if found==0:\n",
    "        print(\"Aucun membre avec ce prénom\")"
   ]
  },
  {
   "cell_type": "markdown",
   "metadata": {},
   "source": [
    "5. Ecrire une procédure ou fonction qui prend en paramètre un prénom donné, et affiche à\n",
    "l’écran le nom et l’adresse de toutes les personnes du club ayant ce prénom."
   ]
  },
  {
   "cell_type": "code",
   "execution_count": null,
   "metadata": {},
   "outputs": [],
   "source": [
    "def Affichage_prenom(Tab,p):\n",
    "    found=0\n",
    "    for i in range(len(Tab)):\n",
    "        if Tab[i][\"prenom\"]==p:\n",
    "            print(Tab[i][\"nom\"],Tab[i][\"adresse\"])\n",
    "            found=1\n",
    "    if found==0:\n",
    "        print(\"Aucun membre avec ce prénom\")"
   ]
  },
  {
   "cell_type": "markdown",
   "metadata": {},
   "source": [
    "### Exercice n°2"
   ]
  },
  {
   "cell_type": "markdown",
   "metadata": {},
   "source": [
    "L’objet de ce travail est de calculer la moyenne d’une classe d’étudiants. Un étudiant sera\n",
    "représenté par son nom, prénom et le tableau des notes qu’il a obtenues :\n",
    "\n",
    "    Objet ETUDIANT\n",
    "    Nom : chaîne\n",
    "    Prénom : chaîne\n",
    "    Notes : tableau [1..3] de reels"
   ]
  },
  {
   "cell_type": "markdown",
   "metadata": {},
   "source": [
    "1) Ecrire la procédure ou fonction permettant de créer de saisir les étudiants (nom, prénom et\n",
    "les 3 notes obtenues) pour les élèves d’une classe.\n"
   ]
  },
  {
   "cell_type": "code",
   "execution_count": null,
   "metadata": {},
   "outputs": [],
   "source": []
  },
  {
   "cell_type": "markdown",
   "metadata": {},
   "source": [
    "## TP 10"
   ]
  },
  {
   "cell_type": "markdown",
   "metadata": {},
   "source": [
    "### Le sac à dos\n",
    "\n",
    "Vous partez en randonnée et votre sac à dos n’est toujours pas préparé. Vous avez développé\n",
    "un programme en Python qui vous permet de contrôler le remplissage et le contenu de votre sac\n",
    "à dos.  \n",
    "\n",
    "Les objets que vous pouvez mettre dans votre sac à dos sont : sac_couchage, chaussures, gourde,\n",
    "chaussettes, linge, pain.  \n",
    "\n",
    "Votre programme présente les fonctionnalités suivantes :"
   ]
  },
  {
   "cell_type": "markdown",
   "metadata": {},
   "source": [
    "#### 1.\n",
    "Donner une fonction en Python « remplir_sac ». Elle vous permet de déposer des\n",
    "objets. L’utilisateur peut arrêter ou continuer le remplissage du sac après avoir déposé\n",
    "un objet. Cette fonction commence avec un sac vide est retourne un sac avec les objets\n",
    "déposés. "
   ]
  },
  {
   "cell_type": "code",
   "execution_count": null,
   "metadata": {},
   "outputs": [],
   "source": [
    "Objets=[\"sac_couchage\",\"chaussures\",\"gourde\",\"chaussettes\",\"linge\",\"pain\"]\n",
    "Sac=set([])"
   ]
  },
  {
   "cell_type": "code",
   "execution_count": null,
   "metadata": {},
   "outputs": [],
   "source": [
    "def remplir_sac():\n",
    "    objet=1\n",
    "    while objet!=\"FIN\":\n",
    "        print(\"Vous pouvez ajouter les objets suivants :\",Objets)\n",
    "        print(\"Quel objet souhaitez vous ajouter ? Tapez FIN pour arrêter\")\n",
    "        objet=input()\n",
    "        if objet in Objets:\n",
    "            Sac.add(objet)\n",
    "            print(objet, \"ajputé au sac à dos\")\n",
    "        elif objet==\"FIN\":\n",
    "            print(\"Fin de l'opération\")\n",
    "        else:\n",
    "            print(\"Erreur de saisie\")"
   ]
  },
  {
   "cell_type": "markdown",
   "metadata": {},
   "source": [
    "#### 2."
   ]
  },
  {
   "cell_type": "markdown",
   "metadata": {},
   "source": [
    "Ecrire une fonction en Python « affiche_sac » qui affiche à l’écran les objets présents\n",
    "dans le sac à dos. "
   ]
  },
  {
   "cell_type": "code",
   "execution_count": null,
   "metadata": {},
   "outputs": [],
   "source": [
    "def affiche_sac():\n",
    "    print(\"Dans votre sac à dos il y a :\")\n",
    "    for objet in Sac :\n",
    "        print(objet)"
   ]
  },
  {
   "cell_type": "markdown",
   "metadata": {},
   "source": [
    "Définir une fonction en Python « vider_sac » qui permet de sortir un ou plusieurs objets\n",
    "du sac en fonction de votre demande et leur présence dans le sac. Cette fonction\n",
    "commence avec un sac qui peut contenir des objets de l’ensemble « objets » et retourne\n",
    "le sac à dos sans les objets enlevés suivant le choix de l’utilisateur."
   ]
  },
  {
   "cell_type": "code",
   "execution_count": null,
   "metadata": {},
   "outputs": [],
   "source": [
    "def vider_sac():\n",
    "    supr=1\n",
    "    while supr!=\"0\":\n",
    "        print(\"Les objets suivant existent\",Objets)\n",
    "        print(\"Quel objet soujaitez-vous retirer du sac ? Tapez 0 pour quitter\")\n",
    "        supr=input()\n",
    "        if supr in Objets:\n",
    "            if supr in Sac:\n",
    "                Sac.remove(supr)\n",
    "                print(supr,\"a été retiré du sac\")\n",
    "            else:\n",
    "                print(\"Il n'y a pas de \",supr,\" dans le sac\")\n",
    "        elif supr==\"0\":\n",
    "            print(\"Fin de l'opération\")\n",
    "        else :\n",
    "            print(\"Erreur de saisie\")\n"
   ]
  },
  {
   "cell_type": "markdown",
   "metadata": {},
   "source": [
    "## TP 11"
   ]
  },
  {
   "cell_type": "markdown",
   "metadata": {},
   "source": [
    "### Exercice n°1"
   ]
  },
  {
   "cell_type": "markdown",
   "metadata": {},
   "source": []
  },
  {
   "cell_type": "markdown",
   "metadata": {},
   "source": [
    "### Exercice n°3"
   ]
  },
  {
   "cell_type": "markdown",
   "metadata": {},
   "source": [
    "Ecrire un programme qui à partir de deux fichiers séquentiels constitués d’enregistrements de\n",
    "personnes (nom, prénom, téléphone, adresse) qui sont déjà ordonnés suivant les noms, va créer un\n",
    "troisième fichier de même type contenant l’ensemble ordonné des personnes présentes dans les\n",
    "deux premiers fichiers. On supposera que chaque fichier se termine par un enregistrement\n",
    "supplémentaire caractérisé par un nom vide, de longueur nulle. "
   ]
  },
  {
   "cell_type": "code",
   "execution_count": null,
   "metadata": {},
   "outputs": [],
   "source": [
    "f1=open(\"Personnes1.dat\",'r')\n",
    "f2=open(\"Personnes2.dat\",'r')\n",
    "f3=open(\"Personnes3.dat\",'w')"
   ]
  },
  {
   "cell_type": "markdown",
   "metadata": {},
   "source": [
    "## Médian A20"
   ]
  },
  {
   "cell_type": "markdown",
   "metadata": {},
   "source": [
    "### Partie n°3"
   ]
  },
  {
   "cell_type": "markdown",
   "metadata": {},
   "source": [
    "#### 1/ \n",
    "Créer un fichier des élèves. Chaque élève est caractérisé par :\n",
    "- nom\n",
    "- note de contrôle 1\n",
    "- note de contrôle 2\n",
    "- note de synthèse\n",
    "- moyenne"
   ]
  },
  {
   "cell_type": "code",
   "execution_count": null,
   "metadata": {},
   "outputs": [],
   "source": [
    "def Saisie():\n",
    "    f=open(\"Eleves.txt\",'w')\n",
    "    nom=input(\"Saisissez le nom de l'élève\")\n",
    "    n1=float(input(\"Entrez la note de contrôle 1\"))\n",
    "    n2=float(input(\"Entrez la note de contrôle 2\"))\n",
    "    ns=float(input(\"Entrez la note de synthèse\"))\n",
    "    m=(n1+n2+2*ns)/4\n",
    "\n",
    "    if not nom or not n1 or not n2 or not ns :\n",
    "        Exception(\"L'information saisie n'est pas complète\")\n",
    "    else :\n",
    "        f.write(nom+\"   \"+str(n1)+\"    \"+str(n2)+\"     \"+str(ns)+\"     \"+str(m))\n",
    "        f.write(\"\\n\")"
   ]
  },
  {
   "cell_type": "code",
   "execution_count": null,
   "metadata": {},
   "outputs": [],
   "source": [
    "Saisie()"
   ]
  },
  {
   "cell_type": "markdown",
   "metadata": {},
   "source": [
    "#### 2/ \n",
    "Déterminer et afficher le nombre des élèves qui ont une moyenne >= 10, leurs noms et leurs\n",
    "moyennes"
   ]
  },
  {
   "cell_type": "code",
   "execution_count": null,
   "metadata": {},
   "outputs": [],
   "source": []
  },
  {
   "cell_type": "markdown",
   "metadata": {},
   "source": [
    "### Partie n°1\n",
    "On veut écrire un programme en PASCAL qui permet l'extraction des chiffres présents dans un\n",
    "texte.\n",
    "On considèrera qu’un texte est un ensemble de lignes, de 55 caractères maximum par ligne."
   ]
  },
  {
   "cell_type": "markdown",
   "metadata": {},
   "source": [
    "#### 1) \n",
    "Ecrire une procédure permettant la saisie du texte, et rangeant ce texte dans un tableau de\n",
    "lignes (avec 100 lignes au maximum). Chaque élément du tableau représentera une ligne de\n",
    "caractères, entrée au clavier par l’utilisateur, jusqu’à ce qu’il appuie sur la touche « entrée »\n",
    "(pour indiquer la fin de ligne). Cette procédure doit retourner le tableau ainsi composé."
   ]
  },
  {
   "cell_type": "code",
   "execution_count": null,
   "metadata": {},
   "outputs": [],
   "source": [
    "def Saisie_txt():\n",
    "    t=[]\n",
    "    cl=0\n",
    "    i=0\n",
    "    y=55\n",
    "    txt=\"c\"\n",
    "    while txt!=\"\":\n",
    "        print(\"Saisissez votre texte\")\n",
    "        txt=input()\n",
    "    while cl<=100:\n",
    "        t.append(txt[i:y])\n",
    "        i+=55\n",
    "        y+=55\n",
    "\n",
    "#Programme qui ne fonctionne pas"
   ]
  },
  {
   "cell_type": "markdown",
   "metadata": {},
   "source": [
    "#### 2) \n",
    "Proposez une fonction qui lors de son appel reçoit une chaîne de caractères et retourne un\n",
    "nombre entier composé des chiffres présents dans cette chaîne de caractères, c’est-à-dire\n",
    "retourne un nombre entier composé des chiffres présents dans cette chaîne de caractères. Par\n",
    "exemple : si l'utilisateur entre la chaîne de caractères \"ser23df91\" le programme doit\n",
    "composer le nombre entier 2391 = (((2) *10 + 3) * 10 + 9) * 10 + 1."
   ]
  },
  {
   "cell_type": "code",
   "execution_count": null,
   "metadata": {},
   "outputs": [],
   "source": [
    "def entier_chaîne(chaine):\n",
    "    chiffres=\"0123456789\"\n",
    "    t=[]\n",
    "    m=0\n",
    "    for i in range(len(chaine)):\n",
    "        if chaine[i] in chiffres:\n",
    "            t.append(int(chaine[i]))\n",
    "    p=len(t)-1\n",
    "    for j in range(len(t)):\n",
    "        m=m+(t[j]*(10**p))\n",
    "        p=p-1\n",
    "    return m\n"
   ]
  },
  {
   "cell_type": "code",
   "execution_count": null,
   "metadata": {},
   "outputs": [
    {
     "name": "stdout",
     "output_type": "stream",
     "text": [
      "2391\n"
     ]
    }
   ],
   "source": [
    "print(entier_chaîne(\"ser23df91\"))"
   ]
  },
  {
   "cell_type": "markdown",
   "metadata": {},
   "source": [
    "#### 3) \n",
    "Ecrire une procédure à deux arguments permettant de transformer le texte saisi\n",
    "précédemment (à la question 1) en une série de nombre, en utilisant la fonction de la question\n",
    "2 (c’est-à-dire le nombre renvoyé par la fonction de la question 2, pour chaque ligne du\n",
    "texte). Ces nombres seront rangés dans un autre tableau, dont chaque élément correspondra\n",
    "à une ligne du texte. Au cas où la ligne ne contient aucun chiffre, on mettra la valeur 0 (zéro).\n",
    "Ce tableau de nombre doit être retourné par la procédure qui reçoit lors de son appel le\n",
    "tableau de caractères. "
   ]
  },
  {
   "cell_type": "code",
   "execution_count": null,
   "metadata": {},
   "outputs": [],
   "source": [
    "def trois(nombre_ligne, ):"
   ]
  },
  {
   "cell_type": "markdown",
   "metadata": {},
   "source": [
    "### Partie n°2\n",
    "Soit un tableau contenant des entiers, d’abord ordonnés de façon croissante, les valeurs du tableau\n",
    "augmentant jusqu'au sommet (le plus grand entier du tableau), puis de façon décroissante, jusqu'au\n",
    "dernier élément du tableau. En voici un exemple :  \n",
    "  \n",
    "![Illustration](../images/A20.png \"Illustration\")  \n",
    "\n",
    "Remarque : on supposera qu’un tableau contient un seul sommet, et ne contient pas deux valeurs\n",
    "successives égales."
   ]
  },
  {
   "cell_type": "markdown",
   "metadata": {},
   "source": [
    "#### 1) \n",
    "On vous demande d’écrire une fonction de recherche récursive qui appliquée à un tel tableau\n",
    "renvoie l’indice du sommet de ce tableau. Exemple : dans le cas ci-dessus, la fonction devra renvoyer\n",
    "7, indice de la valeur 19.  \n",
    "\n",
    "Pour ce faire, on vous donne gracieusement quelques principes d’écriture de cette fonction :\n",
    "- On utilise une fonction récursive, nommée RechercheSommet, qui prend comme entrées un tableau,\n",
    "et deux indices, l’un de début, l’autre de fin, délimitant la partie du tableau sur laquelle la fonction\n",
    "est appliquée.\n",
    "- Ensuite, à chaque étape, on divise le tableau en 2 parties de longueurs égales (ou presque égales\n",
    "selon la parité), en calculant l’indice entier d’une case centrale.\n",
    "- Le sommet se trouve alors nécessairement dans l'une des deux parties, soit la partie “gauche”, soit\n",
    "la partie “droite”. Il est alors aisé, à l’issue d’une comparaison, de choisir la partie sur laquelle\n",
    "continuer la recherche, et donc sur laquelle réappliquer récursivement la fonction RechercheSommet.\n",
    "- Ce procédé doit s’arrêter quand la partie du tableau examinée se réduit à un unique élément, auquel\n",
    "cas l’indice du sommet est trouvé.\n",
    "- Un exemple de fonctionnement de cette fonction est présenté ci-dessous."
   ]
  },
  {
   "cell_type": "code",
   "execution_count": null,
   "metadata": {},
   "outputs": [
    {
     "ename": "IndentationError",
     "evalue": "expected an indented block (Temp/ipykernel_7960/1965740568.py, line 7)",
     "output_type": "error",
     "traceback": [
      "\u001b[1;36m  File \u001b[1;32m\"C:\\Users\\ewenm\\AppData\\Local\\Temp/ipykernel_7960/1965740568.py\"\u001b[1;36m, line \u001b[1;32m7\u001b[0m\n",
      "\u001b[1;33m    i3=(i1+i2)//2\u001b[0m\n",
      "\u001b[1;37m    ^\u001b[0m\n",
      "\u001b[1;31mIndentationError\u001b[0m\u001b[1;31m:\u001b[0m expected an indented block\n"
     ]
    }
   ],
   "source": [
    "def RechercheSommet(tab,i1,i2):\n",
    "    if i1>i2:\n",
    "        return -1\n",
    "    else:\n",
    "        for i in range(len(tab[i1:i2])):\n",
    "            \n",
    "        i3=(i1+i2)//2"
   ]
  },
  {
   "cell_type": "markdown",
   "metadata": {},
   "source": [
    "## Examen Final : exemples\n",
    "### Problème n°1 : Suite de Fibonacci récursive\n",
    "La suite de Fibonacci est définie par :  \n",
    " Fn = Fn-1 + Fn-2, pour n > 1 avec : F0 = 0 et F1 = 1  \n",
    "Ecrire une fonction récursive permettant de calculer le n-ième terme de cette suite."
   ]
  },
  {
   "cell_type": "code",
   "execution_count": 1,
   "metadata": {},
   "outputs": [],
   "source": [
    "def Fibo(n):\n",
    "    if n==0:\n",
    "        return 0\n",
    "    elif n==1:\n",
    "        return 1\n",
    "    else:\n",
    "        return Fibo(n-1)+Fibo(n-2)"
   ]
  },
  {
   "cell_type": "markdown",
   "metadata": {},
   "source": [
    "### Problème n°2 : Récursivité\n",
    "#### 1)\n",
    "Ecrire en Python la fonction récursive nb_chiffres qui renvoie le nombre de chiffres composant\n",
    "un entier a.\n"
   ]
  },
  {
   "cell_type": "code",
   "execution_count": 3,
   "metadata": {},
   "outputs": [],
   "source": [
    "def nb_chiffres(a):\n",
    "    if a<10:\n",
    "        return 1    \n",
    "    else :\n",
    "        return 1+nb_chiffres(a//10)\n"
   ]
  },
  {
   "cell_type": "markdown",
   "metadata": {},
   "source": [
    "#### 2) \n",
    "Ecrire en Python la fonction récursive nb_occurrences qui renvoie le nombre d’occurrences d’un caractère c dans une chaîne de caractères st.  \n",
    "Indications :\n",
    "- le nombre d’occurrences de ‘a’ dans la chaîne “il fait beau“ est égal à 2.\n",
    "- le nombre d’occurrences de ‘a’ dans la chaîne vide ‘’ est égal à 0.\n",
    "- le nombre d’occurrences de ‘a’ dans la chaîne “avare“ est égal au nombre d’occurrences de\n",
    "‘a’ dans la chaîne ‘vare’ plus 1.\n"
   ]
  },
  {
   "cell_type": "code",
   "execution_count": 15,
   "metadata": {},
   "outputs": [],
   "source": [
    "def nb_occurences(c,st):\n",
    "    if st==\"\":\n",
    "        return 0\n",
    "    elif c==st[0]:\n",
    "        return 1+nb_occurences(c,st[1:])\n",
    "    else:\n",
    "        return nb_occurences(c,st[1:])\n"
   ]
  },
  {
   "cell_type": "markdown",
   "metadata": {},
   "source": [
    "#### 3) \n",
    "On veut construire une fonction récursive qui calcule et renvoie la somme des chiffres d’un\n",
    "entier naturel.\n",
    "##### a) \n",
    "Proposer en termes simples un principe qui permettrait de formuler cette fonction sous\n",
    "forme récursive. On fera apparaître clairement en quoi ce principe est récursif.\n"
   ]
  },
  {
   "cell_type": "markdown",
   "metadata": {},
   "source": [
    "\n",
    "    Définition somme_chiffres d'un entier naturel:\n",
    "        si l'entier ne contient qu'un chiffre, alors\n",
    "            retourner le chiffre\n",
    "        sinon\n",
    "            retourner somme_chiffres de l'entier sans son premier chiffre  + le premier chiffre\n",
    "        "
   ]
  },
  {
   "cell_type": "markdown",
   "metadata": {},
   "source": [
    "##### b)\n",
    "Ecrire en Python la fonction somme qui implémente ce principe. Cette fonction, appliquée à\n",
    "un entier, devra retourner un entier."
   ]
  },
  {
   "cell_type": "code",
   "execution_count": 13,
   "metadata": {},
   "outputs": [],
   "source": [
    "#Méthode bourrin\n",
    "def somme_chiffres(N):\n",
    "    if N<11:\n",
    "        return N\n",
    "    else:\n",
    "        return somme_chiffres(int(str(N)[1:]))+int(str(N)[0])"
   ]
  },
  {
   "cell_type": "code",
   "execution_count": 7,
   "metadata": {},
   "outputs": [
    {
     "name": "stdout",
     "output_type": "stream",
     "text": [
      "18\n"
     ]
    }
   ],
   "source": [
    "print(somme_chiffres(99))"
   ]
  },
  {
   "cell_type": "code",
   "execution_count": 14,
   "metadata": {},
   "outputs": [],
   "source": [
    "#Correction\n",
    "def somme_chiffres_corr(a):\n",
    "    if a//10==0:\n",
    "        return a\n",
    "    else:\n",
    "        return somme_chiffres_corr(a//10) + a%10"
   ]
  },
  {
   "cell_type": "markdown",
   "metadata": {},
   "source": [
    "#### 4) \n",
    "On veut savoir si deux tableaux t1 et t2 comportant le même nombre n d’éléments et de même\n",
    "type (les éléments sont des entiers) sont identiques par une approche récursive. A cet effet, on\n",
    "vous demande de définir une fonction booléenne récursive prenant notamment pour arguments\n",
    "ces deux tableaux. Indication : cette comparaison devra être faite, évidemment, case par case."
   ]
  },
  {
   "cell_type": "code",
   "execution_count": 16,
   "metadata": {},
   "outputs": [],
   "source": [
    "def test_tab(t1,t2):\n",
    "    if t1[0]!=t2[0]:\n",
    "        return False\n",
    "    else:\n",
    "        if test_tab(t1[1:],t2[1:])==True:\n",
    "            return True\n",
    "        "
   ]
  },
  {
   "cell_type": "code",
   "execution_count": null,
   "metadata": {},
   "outputs": [],
   "source": [
    "N=int(input(\"Quelle est la taille du tableau ?  \"))\n",
    "t1=[]\n",
    "t2=[]\n",
    "for i in range(N):\n",
    "    t1[i]=int(input(\"Elément d'indice\",i,\"du premier tableau\"))\n",
    "\n"
   ]
  }
 ],
 "metadata": {
  "celltoolbar": "Aucun(e)",
  "hide_input": false,
  "kernelspec": {
   "display_name": "Python 3",
   "language": "python",
   "name": "python3"
  },
  "language_info": {
   "codemirror_mode": {
    "name": "ipython",
    "version": 3
   },
   "file_extension": ".py",
   "mimetype": "text/x-python",
   "name": "python",
   "nbconvert_exporter": "python",
   "pygments_lexer": "ipython3",
   "version": "3.9.6"
  },
  "toc": {
   "base_numbering": 1,
   "nav_menu": {},
   "number_sections": true,
   "sideBar": true,
   "skip_h1_title": false,
   "title_cell": "Table of Contents",
   "title_sidebar": "Contents",
   "toc_cell": false,
   "toc_position": {},
   "toc_section_display": true,
   "toc_window_display": false
  },
  "varInspector": {
   "cols": {
    "lenName": 16,
    "lenType": 16,
    "lenVar": 40
   },
   "kernels_config": {
    "python": {
     "delete_cmd_postfix": "",
     "delete_cmd_prefix": "del ",
     "library": "var_list.py",
     "varRefreshCmd": "print(var_dic_list())"
    },
    "r": {
     "delete_cmd_postfix": ") ",
     "delete_cmd_prefix": "rm(",
     "library": "var_list.r",
     "varRefreshCmd": "cat(var_dic_list()) "
    }
   },
   "types_to_exclude": [
    "module",
    "function",
    "builtin_function_or_method",
    "instance",
    "_Feature"
   ],
   "window_display": false
  }
 },
 "nbformat": 4,
 "nbformat_minor": 1
}
