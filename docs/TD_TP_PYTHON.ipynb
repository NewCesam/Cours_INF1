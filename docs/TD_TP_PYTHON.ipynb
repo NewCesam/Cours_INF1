{
 "cells": [
  {
   "cell_type": "markdown",
   "metadata": {
    "slideshow": {
     "slide_type": "slide"
    }
   },
   "source": [
    "# TD/TP Python"
   ]
  },
  {
   "cell_type": "markdown",
   "metadata": {
    "slideshow": {
     "slide_type": "fragment"
    }
   },
   "source": [
    "***  \n",
    "> Ce document est un notebook jupyter, pour bien vous familiariser avec cet environnement regardez cette rapide [Introduction](https://ericecmorlaix.github.io/base_mkdocs_material/Notebook/).  \n",
    "\n",
    "***"
   ]
  },
  {
   "cell_type": "markdown",
   "metadata": {},
   "source": [
    "## TD 8"
   ]
  },
  {
   "cell_type": "markdown",
   "metadata": {
    "slideshow": {
     "slide_type": "-"
    }
   },
   "source": [
    "### 1.\n"
   ]
  },
  {
   "cell_type": "markdown",
   "metadata": {},
   "source": [
    "Trouver une fonction récursive  du PGCD de deux entiers et écrire l’algorithme correspondant."
   ]
  },
  {
   "cell_type": "code",
   "execution_count": 3,
   "metadata": {},
   "outputs": [],
   "source": [
    "def PGCD(A,B):\n",
    "    if A%B == 0:\n",
    "        return B\n",
    "    else :\n",
    "        return PGCD(B, A%B)\n",
    "        "
   ]
  },
  {
   "cell_type": "code",
   "execution_count": null,
   "metadata": {},
   "outputs": [],
   "source": []
  },
  {
   "cell_type": "markdown",
   "metadata": {},
   "source": [
    "### 2. "
   ]
  },
  {
   "cell_type": "markdown",
   "metadata": {},
   "source": [
    "Trouver une fonction récursive  permettant de calculer la puissance d’un nombre x^y. Attention : y pourra être éventuellement négatif"
   ]
  },
  {
   "cell_type": "code",
   "execution_count": 4,
   "metadata": {},
   "outputs": [],
   "source": [
    "def Puissance(x,y):\n",
    "    if y==0:\n",
    "        return 1\n",
    "    elif y>0:\n",
    "        return x*Puissance(x,y-1)\n",
    "    else:\n",
    "        return (1/x)*Puissance(x,y+1)"
   ]
  },
  {
   "cell_type": "code",
   "execution_count": null,
   "metadata": {},
   "outputs": [],
   "source": []
  },
  {
   "cell_type": "markdown",
   "metadata": {},
   "source": [
    "### 3. "
   ]
  },
  {
   "cell_type": "markdown",
   "metadata": {},
   "source": [
    "Trouver une fonction récursive permettant d’inverser une chaîne de caractères (‘NF01’ devient ‘10FN’, ‘bonjour’ devient ‘ruojnob’…)."
   ]
  },
  {
   "cell_type": "code",
   "execution_count": 1,
   "metadata": {},
   "outputs": [],
   "source": [
    "def Inversion(chaine):\n",
    "    if chaine==\"\":\n",
    "        return chaine\n",
    "    else:\n",
    "        return Inversion(chaine[1:])+chaine[0]\n",
    "        "
   ]
  },
  {
   "cell_type": "markdown",
   "metadata": {},
   "source": [
    "### 4. \n"
   ]
  },
  {
   "cell_type": "markdown",
   "metadata": {},
   "source": [
    "En déduire une fonction permettant d’indiquer si un mot est un palindrome (identique à l’endroit et à l’envers, par exemple : ‘noyon’ ou ‘rever’)."
   ]
  },
  {
   "cell_type": "code",
   "execution_count": 5,
   "metadata": {},
   "outputs": [],
   "source": [
    "def Palindrome(S):\n",
    "    if len(S)<=1:\n",
    "        return True\n",
    "    else:\n",
    "        if S[0]==S[-1]:\n",
    "            return Palindrome(S[1:-1])\n",
    "        else:\n",
    "            return False"
   ]
  },
  {
   "cell_type": "code",
   "execution_count": null,
   "metadata": {},
   "outputs": [],
   "source": []
  },
  {
   "cell_type": "markdown",
   "metadata": {},
   "source": [
    "On pouvait aussi utiliser la fonction précédente"
   ]
  },
  {
   "cell_type": "markdown",
   "metadata": {},
   "source": [
    "### 5. "
   ]
  },
  {
   "cell_type": "markdown",
   "metadata": {},
   "source": [
    "Ecrire une fonction récursive en Python de recherche dichotomique."
   ]
  },
  {
   "cell_type": "code",
   "execution_count": 6,
   "metadata": {},
   "outputs": [],
   "source": [
    "## Programme qui ne fonctionne pas\n",
    "def dicho(val,liste):\n",
    "    d=0\n",
    "    f=len(liste)-1\n",
    "    if (d>f) or (d==f and liste[d]!=val):\n",
    "        return -1\n",
    "    n=(d+f)/2\n",
    "    if liste[n]==val:\n",
    "        return n\n",
    "    elif val>liste[n]:\n",
    "        return dicho(val,liste[n:f])\n",
    "    else:\n",
    "        return dicho(val,liste[d:n])"
   ]
  },
  {
   "cell_type": "code",
   "execution_count": 7,
   "metadata": {},
   "outputs": [],
   "source": [
    "def dicho(val,liste,d,f):\n",
    "    if d>f:\n",
    "        return -1\n",
    "    else:\n",
    "        n=(d+f)//2\n",
    "        if liste[n]==val:\n",
    "            return n\n",
    "        elif val>liste[n]:\n",
    "            return dicho(val,liste,n+1,f)\n",
    "        else:\n",
    "            return dicho(val,liste,d,n-1)"
   ]
  },
  {
   "cell_type": "code",
   "execution_count": null,
   "metadata": {},
   "outputs": [],
   "source": []
  },
  {
   "cell_type": "markdown",
   "metadata": {},
   "source": [
    "## TP 8"
   ]
  },
  {
   "cell_type": "markdown",
   "metadata": {},
   "source": [
    "### Exercice n°1\n"
   ]
  },
  {
   "cell_type": "markdown",
   "metadata": {},
   "source": [
    "1. Ecrire un programme en Python qui réalise la fonction récursive suivante:\n",
    "MYSTERE(X,Y) vaut X si Y=1\n",
    "vaut X + MYSTERE(X,Y-1) sinon"
   ]
  },
  {
   "cell_type": "code",
   "execution_count": 8,
   "metadata": {},
   "outputs": [],
   "source": [
    "def MYSTERE(X,Y):\n",
    "    if Y==1:\n",
    "        return X\n",
    "    else:\n",
    "        return X+MYSTERE(X,Y-1)"
   ]
  },
  {
   "cell_type": "code",
   "execution_count": 10,
   "metadata": {},
   "outputs": [
    {
     "name": "stdout",
     "output_type": "stream",
     "text": [
      "27\n"
     ]
    }
   ],
   "source": [
    "print(MYSTERE(3,9))"
   ]
  },
  {
   "cell_type": "markdown",
   "metadata": {},
   "source": [
    "2. Préciser ce que fait cette fonction (X et Y entiers naturels) (multiplication). Pour\n",
    "confirmer, une simulation effectuée sur un exemple simple sera la bienvenue."
   ]
  },
  {
   "cell_type": "markdown",
   "metadata": {},
   "source": [
    "Cette fonction multiplie les deux termes. Exemple ci-dessus."
   ]
  },
  {
   "cell_type": "markdown",
   "metadata": {},
   "source": [
    "### Exercice n°2"
   ]
  },
  {
   "cell_type": "markdown",
   "metadata": {},
   "source": [
    "Ecrire une procédure récursive AfficheChiffres() qui affiche les chiffres d’un nombre\n",
    "entier séparés par une barre de division (barre oblique). Par exemple :\n",
    "AfficheChiffres(123) affichera : 1 / 2 / 3\n"
   ]
  },
  {
   "cell_type": "markdown",
   "metadata": {},
   "source": [
    "\n",
    "    AfficheChiffres(N):\n",
    "        N : entier\n",
    "        si N/10 < 1\n",
    "            alors\n",
    "                retourner N\n",
    "        sinon\n",
    "            "
   ]
  },
  {
   "cell_type": "code",
   "execution_count": null,
   "metadata": {},
   "outputs": [
    {
     "ename": "Error",
     "evalue": "Session cannot generate requests",
     "output_type": "error",
     "traceback": [
      "Error: Session cannot generate requests",
      "at S.executeCodeCell (c:\\Users\\ewenm\\.vscode\\extensions\\ms-toolsai.jupyter-2021.10.1101450599\\out\\client\\extension.js:66:301742)",
      "at S.execute (c:\\Users\\ewenm\\.vscode\\extensions\\ms-toolsai.jupyter-2021.10.1101450599\\out\\client\\extension.js:66:300732)",
      "at S.start (c:\\Users\\ewenm\\.vscode\\extensions\\ms-toolsai.jupyter-2021.10.1101450599\\out\\client\\extension.js:66:296408)",
      "at runMicrotasks (<anonymous>)",
      "at processTicksAndRejections (internal/process/task_queues.js:93:5)",
      "at async t.CellExecutionQueue.executeQueuedCells (c:\\Users\\ewenm\\.vscode\\extensions\\ms-toolsai.jupyter-2021.10.1101450599\\out\\client\\extension.js:66:312326)",
      "at async t.CellExecutionQueue.start (c:\\Users\\ewenm\\.vscode\\extensions\\ms-toolsai.jupyter-2021.10.1101450599\\out\\client\\extension.js:66:311862)"
     ]
    }
   ],
   "source": [
    "def AfficheChiffres(c):\n",
    "    c=str(c)\n",
    "    if len(c)==0:\n",
    "        return c\n",
    "    return c[0] + \"/\" + AfficheChiffres(c[1:]) "
   ]
  },
  {
   "cell_type": "code",
   "execution_count": null,
   "metadata": {},
   "outputs": [],
   "source": [
    "\n",
    "nb = int(input(\"Entrer un nombre entier :\"))\n",
    "carac=str(nb)\n",
    "print(\"les chiffres du nombres \",carac,\" sont: \",AfficheChiffres(carac))"
   ]
  },
  {
   "cell_type": "markdown",
   "metadata": {},
   "source": [
    "### Exercice n°3"
   ]
  },
  {
   "cell_type": "markdown",
   "metadata": {},
   "source": [
    "Écrire une fonction récursive ‘add(x,y)’ qui fasse l'addition de 2 nombres entiers naturels\n",
    "x et y. Vous ne pouvez utiliser les opérateurs ‘+’ et ‘-‘ que si l’un des deux opérandes est\n",
    "0 ou 1.\n"
   ]
  },
  {
   "cell_type": "code",
   "execution_count": null,
   "metadata": {},
   "outputs": [
    {
     "ename": "Error",
     "evalue": "Session cannot generate requests",
     "output_type": "error",
     "traceback": [
      "Error: Session cannot generate requests",
      "at S.executeCodeCell (c:\\Users\\ewenm\\.vscode\\extensions\\ms-toolsai.jupyter-2021.10.1101450599\\out\\client\\extension.js:66:301742)",
      "at S.execute (c:\\Users\\ewenm\\.vscode\\extensions\\ms-toolsai.jupyter-2021.10.1101450599\\out\\client\\extension.js:66:300732)",
      "at S.start (c:\\Users\\ewenm\\.vscode\\extensions\\ms-toolsai.jupyter-2021.10.1101450599\\out\\client\\extension.js:66:296408)",
      "at runMicrotasks (<anonymous>)",
      "at processTicksAndRejections (internal/process/task_queues.js:93:5)",
      "at async t.CellExecutionQueue.executeQueuedCells (c:\\Users\\ewenm\\.vscode\\extensions\\ms-toolsai.jupyter-2021.10.1101450599\\out\\client\\extension.js:66:312326)",
      "at async t.CellExecutionQueue.start (c:\\Users\\ewenm\\.vscode\\extensions\\ms-toolsai.jupyter-2021.10.1101450599\\out\\client\\extension.js:66:311862)"
     ]
    }
   ],
   "source": [
    "def add(x, y):\n",
    "    if y == 0:\n",
    "        return x\n",
    "    if y > 0:\n",
    "        return 1 + add(x, y-1)\n",
    "    return  add(x, y+1) - 1\n",
    "\n"
   ]
  },
  {
   "cell_type": "code",
   "execution_count": null,
   "metadata": {},
   "outputs": [
    {
     "ename": "Error",
     "evalue": "Session cannot generate requests",
     "output_type": "error",
     "traceback": [
      "Error: Session cannot generate requests",
      "at S.executeCodeCell (c:\\Users\\ewenm\\.vscode\\extensions\\ms-toolsai.jupyter-2021.10.1101450599\\out\\client\\extension.js:66:301742)",
      "at S.execute (c:\\Users\\ewenm\\.vscode\\extensions\\ms-toolsai.jupyter-2021.10.1101450599\\out\\client\\extension.js:66:300732)",
      "at S.start (c:\\Users\\ewenm\\.vscode\\extensions\\ms-toolsai.jupyter-2021.10.1101450599\\out\\client\\extension.js:66:296408)",
      "at runMicrotasks (<anonymous>)",
      "at processTicksAndRejections (internal/process/task_queues.js:93:5)",
      "at async t.CellExecutionQueue.executeQueuedCells (c:\\Users\\ewenm\\.vscode\\extensions\\ms-toolsai.jupyter-2021.10.1101450599\\out\\client\\extension.js:66:312326)",
      "at async t.CellExecutionQueue.start (c:\\Users\\ewenm\\.vscode\\extensions\\ms-toolsai.jupyter-2021.10.1101450599\\out\\client\\extension.js:66:311862)"
     ]
    }
   ],
   "source": [
    "print(\"---addition de deux nombres\")\n",
    "nombre1 = int(input(\"Entrer un nombre:\\n\"))\n",
    "nombre2 = int(input(\"Entrer un nombre:\\n\"))\n",
    "print(\"l'addition des nombres \",nombre1,\" et \", nombre2,\" est \", add(nombre1,nombre2))"
   ]
  },
  {
   "cell_type": "markdown",
   "metadata": {},
   "source": [
    "### Exercice n°4"
   ]
  },
  {
   "cell_type": "markdown",
   "metadata": {},
   "source": [
    "Écrire ensuite une autre fonction récursive qui multiplie deux nombres entiers naturels n et\n",
    "m. Vous devez utiliser la première fonction ‘add(x,y)’ définie précédemment. "
   ]
  },
  {
   "cell_type": "code",
   "execution_count": null,
   "metadata": {},
   "outputs": [
    {
     "ename": "Error",
     "evalue": "Session cannot generate requests",
     "output_type": "error",
     "traceback": [
      "Error: Session cannot generate requests",
      "at S.executeCodeCell (c:\\Users\\ewenm\\.vscode\\extensions\\ms-toolsai.jupyter-2021.10.1101450599\\out\\client\\extension.js:66:301742)",
      "at S.execute (c:\\Users\\ewenm\\.vscode\\extensions\\ms-toolsai.jupyter-2021.10.1101450599\\out\\client\\extension.js:66:300732)",
      "at S.start (c:\\Users\\ewenm\\.vscode\\extensions\\ms-toolsai.jupyter-2021.10.1101450599\\out\\client\\extension.js:66:296408)",
      "at runMicrotasks (<anonymous>)",
      "at processTicksAndRejections (internal/process/task_queues.js:93:5)",
      "at async t.CellExecutionQueue.executeQueuedCells (c:\\Users\\ewenm\\.vscode\\extensions\\ms-toolsai.jupyter-2021.10.1101450599\\out\\client\\extension.js:66:312326)",
      "at async t.CellExecutionQueue.start (c:\\Users\\ewenm\\.vscode\\extensions\\ms-toolsai.jupyter-2021.10.1101450599\\out\\client\\extension.js:66:311862)"
     ]
    }
   ],
   "source": [
    "def mul(x, y):\n",
    "    if x==0 or y==0:\n",
    "        return 0\n",
    "    elif x<0 and y<0:\n",
    "        return add(-y, mul(-x-1,y))\n",
    "    elif x<0 and y>0:\n",
    "        return add(x, mul(x,y-1))\n",
    "    else:\n",
    "        return add(y, mul(x-1,y))"
   ]
  },
  {
   "cell_type": "markdown",
   "metadata": {},
   "source": [
    "## TP 9"
   ]
  },
  {
   "cell_type": "markdown",
   "metadata": {},
   "source": [
    "### Exercice n°1"
   ]
  },
  {
   "cell_type": "markdown",
   "metadata": {},
   "source": [
    "On souhaite pouvoir gérer des listes de personnes membres d’un club. Les informations à\n",
    "conserver sont : nom, prénom et adresse des adhérents. Il faut pouvoir effectuer la recherche en\n",
    "fonction du nom ou du prénom (Quelles sont les personnes appelées ‘Dupont’ ? Quels sont les\n",
    "membres dont le prénom est ‘Zoé’ ? ... ).  \n",
    "Utiliser une structure de données permettant de gérer cette situation, en utilisant des tableaux et\n",
    "des structures. Imaginez comment structurer cela en Python."
   ]
  },
  {
   "cell_type": "markdown",
   "metadata": {},
   "source": [
    "1) Ecrire une procédure ou fonction permettant de saisir quelques données (des membres du club)."
   ]
  },
  {
   "cell_type": "code",
   "execution_count": null,
   "metadata": {},
   "outputs": [],
   "source": [
    "from collections import namedtuple\n",
    "\n",
    "membre = namedtuple('Membre',['Nom','Prénom','Adresse'])\n"
   ]
  },
  {
   "cell_type": "code",
   "execution_count": 26,
   "metadata": {},
   "outputs": [],
   "source": [
    "class membre:\n",
    "    def __init__(self, nom, prenom, adresse):\n",
    "        self.nom=nom\n",
    "        self.prenom=prenom\n",
    "        self.adresse=adresse"
   ]
  },
  {
   "cell_type": "code",
   "execution_count": 25,
   "metadata": {},
   "outputs": [],
   "source": [
    "def Ajout(Tab):\n",
    "    membre={}\n",
    "    membre[\"nom\"]=input(\"Entrez le nom du membre\")\n",
    "    membre[\"prenom\"]=input(\"Entrez le prénom du membre\")\n",
    "    membre[\"adresse\"]=input(\"Entrez l'adresse du membre\")\n",
    "    Tab.append(membre)"
   ]
  },
  {
   "cell_type": "markdown",
   "metadata": {},
   "source": [
    "2. Ecrire une fonction qui prend en paramètre un prénom donné, et renvoie la position de la\n",
    "première occurrence de ce prénom dans le tableau associé. La fonction prendra la valeur 0\n",
    "si ce prénom n’existe pas dans le tableau.\n"
   ]
  },
  {
   "cell_type": "code",
   "execution_count": 35,
   "metadata": {},
   "outputs": [],
   "source": [
    "def Prem_ocu(Tab,p):\n",
    "    i,found=0\n",
    "    while i<len(Tab) and found==0:\n",
    "        if Tab[i][\"prenom\"]==p:\n",
    "            found=1\n",
    "        i=i+1\n",
    "    if found==0:\n",
    "        return 0\n",
    "    else:\n",
    "        return i"
   ]
  },
  {
   "cell_type": "markdown",
   "metadata": {},
   "source": [
    "3. Ecrire une fonction qui prend en paramètre un prénom donné, et renvoie la position de la\n",
    "dernière occurrence de ce prénom dans le tableau associé. La fonction prendra la valeur 0 si\n",
    "ce prénom n’existe pas dans le tableau."
   ]
  },
  {
   "cell_type": "code",
   "execution_count": 36,
   "metadata": {},
   "outputs": [],
   "source": [
    "def Der_ocu(Tab,p):\n",
    "    ocu,found=0\n",
    "    for i in range(len(Tab)):\n",
    "        if Tab[i][\"prenom\"]==p:\n",
    "            ocu=i\n",
    "            found=1\n",
    "    if found==0:\n",
    "        return 0\n",
    "    else:\n",
    "        return ocu"
   ]
  },
  {
   "cell_type": "markdown",
   "metadata": {},
   "source": [
    "4. Ecrire une procédure ou fonction qui prend en paramètre un prénom donné, et affiche à\n",
    "l’écran la position de toutes les occurrences de ce prénom dans le tableau associé."
   ]
  },
  {
   "cell_type": "code",
   "execution_count": 38,
   "metadata": {},
   "outputs": [],
   "source": [
    "def Recherche_prenom(Tab,p):\n",
    "    found=0\n",
    "    for i in range(len(Tab)):\n",
    "        if Tab[i][\"prenom\"]==p:\n",
    "            print(i)\n",
    "            found=1\n",
    "    if found==0:\n",
    "        print(\"Aucun membre avec ce prénom\")"
   ]
  },
  {
   "cell_type": "markdown",
   "metadata": {},
   "source": [
    "5. Ecrire une procédure ou fonction qui prend en paramètre un prénom donné, et affiche à\n",
    "l’écran le nom et l’adresse de toutes les personnes du club ayant ce prénom."
   ]
  },
  {
   "cell_type": "code",
   "execution_count": 39,
   "metadata": {},
   "outputs": [],
   "source": [
    "def Affichage_prenom(Tab,p):\n",
    "    found=0\n",
    "    for i in range(len(Tab)):\n",
    "        if Tab[i][\"prenom\"]==p:\n",
    "            print(Tab[i][\"nom\"],Tab[i][\"adresse\"])\n",
    "            found=1\n",
    "    if found==0:\n",
    "        print(\"Aucun membre avec ce prénom\")"
   ]
  },
  {
   "cell_type": "markdown",
   "metadata": {},
   "source": [
    "### Exercice n°2"
   ]
  },
  {
   "cell_type": "markdown",
   "metadata": {},
   "source": [
    "L’objet de ce travail est de calculer la moyenne d’une classe d’étudiants. Un étudiant sera\n",
    "représenté par son nom, prénom et le tableau des notes qu’il a obtenues :\n",
    "\n",
    "    Objet ETUDIANT\n",
    "    Nom : chaîne\n",
    "    Prénom : chaîne\n",
    "    Notes : tableau [1..3] de reels"
   ]
  },
  {
   "cell_type": "markdown",
   "metadata": {},
   "source": [
    "1) Ecrire la procédure ou fonction permettant de créer de saisir les étudiants (nom, prénom et\n",
    "les 3 notes obtenues) pour les élèves d’une classe.\n"
   ]
  },
  {
   "cell_type": "code",
   "execution_count": null,
   "metadata": {},
   "outputs": [],
   "source": []
  },
  {
   "cell_type": "markdown",
   "metadata": {},
   "source": [
    "## TD 12"
   ]
  },
  {
   "cell_type": "markdown",
   "metadata": {},
   "source": [
    "### Exercice n°1"
   ]
  },
  {
   "cell_type": "markdown",
   "metadata": {},
   "source": [
    "Un supermarché désire créer un tableau contenant la liste des prix de tous les articles disponibles\n",
    "en rayon. Ecrire un programme Python qui écrit dans un tableau la liste des articles avec leur\n",
    "prix (entrés au clavier). On désire ensuite calculer le prix moyen des articles en rayon. On\n",
    "aimerait, pour conclure, rechercher le nombre d'articles pour lesquels le prix est supérieur à un\n",
    "tarif entré par l'utilisateur. Par exemple, on voudrait savoir combien d'articles sont vendus à plus\n",
    "de 500 euros. "
   ]
  },
  {
   "cell_type": "code",
   "execution_count": 1,
   "metadata": {},
   "outputs": [],
   "source": [
    "def Ajout(tab):\n",
    "    article={}\n",
    "    print(\"Entrez le nom du produit\")\n",
    "    article[\"nom\"]=input()\n",
    "    print(\"Donnez le prix\")\n",
    "    article[\"prix\"]=float(input())\n",
    "    tab.append(article)\n"
   ]
  },
  {
   "cell_type": "code",
   "execution_count": 2,
   "metadata": {},
   "outputs": [],
   "source": [
    "def Affichage(tab):\n",
    "    if not(tab):\n",
    "        print(\"Le tableau ne contient aucun article\")\n",
    "    else:\n",
    "        for i in range(len(tab)):\n",
    "            print(tab[i][\"nom\"],tab[i][\"prix\"])"
   ]
  },
  {
   "cell_type": "code",
   "execution_count": 12,
   "metadata": {},
   "outputs": [],
   "source": [
    "def Moyenne(tab):\n",
    "    m=0\n",
    "    for i in range(len(tab)):\n",
    "        m+=tab[i][\"prix\"]\n",
    "    if len(tab)>0:\n",
    "        m=m/len(tab)\n",
    "    print(\"La moyenne est \",m)"
   ]
  },
  {
   "cell_type": "code",
   "execution_count": 4,
   "metadata": {},
   "outputs": [],
   "source": [
    "def Recherche(tab):\n",
    "    print(\"Donner un prix\")\n",
    "    p=float(input())\n",
    "    i=0\n",
    "    qte=0\n",
    "    while(i<len(tab)):\n",
    "        if tab[i][\"prix\"]>p:\n",
    "            qte=qte+1\n",
    "        i=i+1\n",
    "    print(\"Le nombre d'articles dont le prix est supérieur à \",p,\" est \",qte)"
   ]
  },
  {
   "cell_type": "code",
   "execution_count": 11,
   "metadata": {},
   "outputs": [
    {
     "name": "stdout",
     "output_type": "stream",
     "text": [
      "Que voulez-vous faire ?\n",
      "Tapez :\n",
      "1 pour ajouter un article\n",
      "2 pour afficher les articles\n",
      "3 pour calculer le prix moyen\n",
      "4 pour rechercher les articles\n",
      "O pour sortir du programme\n"
     ]
    }
   ],
   "source": [
    "tab=[]\n",
    "choix=1\n",
    "while choix!=0:\n",
    "    print(\"Que voulez-vous faire ?\")\n",
    "    print(\"Tapez :\")\n",
    "    print(\"1 pour ajouter un article\")\n",
    "    print(\"2 pour afficher les articles\")\n",
    "    print(\"3 pour calculer le prix moyen\")\n",
    "    print(\"4 pour rechercher les articles\")\n",
    "    print(\"O pour sortir du programme\")\n",
    "    choix=int(input())\n",
    "    if choix==1:\n",
    "        Ajout(tab)\n",
    "    elif choix==2:\n",
    "        Affichage(tab)\n",
    "    elif choix==3:\n",
    "        Moyenne(tab)\n",
    "    elif choix==4:\n",
    "        Recherche(tab)"
   ]
  },
  {
   "cell_type": "markdown",
   "metadata": {},
   "source": [
    "### Exercice n°2"
   ]
  },
  {
   "cell_type": "markdown",
   "metadata": {},
   "source": [
    "On dispose d’un tableau d’enregistrements ayant la structure suivante : nom, prénom, âge."
   ]
  },
  {
   "cell_type": "markdown",
   "metadata": {},
   "source": [
    "a) Ecrire un programme Python avec un MENU permettant de proposer l’ensemble des actions\n",
    "à réaliser (cf liste ci-dessous). Une boucle sera effectuée jusqu’à ce que l’utilisateur ait choisi\n",
    "0 pour sortir. Le programme Python vérifiera que le choix de l’utilisateur est un chiffre\n",
    "compris entre 0 et 6. Si ce n’est pas le cas, son choix lui sera demandé à nouveau.\n"
   ]
  },
  {
   "cell_type": "markdown",
   "metadata": {},
   "source": [
    "b) Ecrire les fonctions pour réaliser les actions suivantes :\n",
    " 1. Stockage de l’ensemble des étudiants dans le tableau\n",
    " 2. Afficher l’ensemble du tableau (liste de tous les étudiants)\n",
    " 3. Ajout d’un étudiant\n",
    " 4. Recherche d’un étudiant\n",
    " 5. Suppression d’un étudiant\n",
    " 6. Modification d’un étudiant"
   ]
  },
  {
   "cell_type": "code",
   "execution_count": 13,
   "metadata": {},
   "outputs": [],
   "source": [
    "from collections import namedtuple\n",
    "Etudiant=namedtuple(\"Etudiant\",[\"nom\",\"prenom\",\"age\"])"
   ]
  },
  {
   "cell_type": "code",
   "execution_count": 20,
   "metadata": {},
   "outputs": [],
   "source": [
    "def Stockage_etu(t):\n",
    "    print(\"Fonction à faire haha\")"
   ]
  },
  {
   "cell_type": "code",
   "execution_count": null,
   "metadata": {},
   "outputs": [],
   "source": [
    "def Ajout_etu(t):\n",
    "    print(\"Donnez le nom, le prénom et l'âge de l'étudiant\")\n",
    "    etu=Etudiant(nom=input(),prenom=input(),age=int(input()))\n",
    "    t.append(etu)"
   ]
  },
  {
   "cell_type": "code",
   "execution_count": null,
   "metadata": {},
   "outputs": [],
   "source": [
    "def Affichage_etu(t):\n",
    "    if not t:\n",
    "        print(\"Il n'y a pas d'étudiant\")\n",
    "    else:\n",
    "        for i in range(len(t)):\n",
    "            print(t[i].nom,t[i].prenom,t[i].age)  #ou simplement print(t[i])"
   ]
  },
  {
   "cell_type": "code",
   "execution_count": 14,
   "metadata": {},
   "outputs": [],
   "source": [
    "def Recherche_etu(t,n,p):\n",
    "    i,found=0\n",
    "    while i<len(t) and found==0:\n",
    "        if t[i].nom==n and t[i].prenom==p:\n",
    "            found=1\n",
    "        i=i+1\n",
    "    if found==0:\n",
    "        return -1\n",
    "    else:\n",
    "        return i-1"
   ]
  },
  {
   "cell_type": "code",
   "execution_count": 16,
   "metadata": {},
   "outputs": [],
   "source": [
    "def Suppression_etu(t,n,p):\n",
    "    i=Recherche_etu(t,n,p)\n",
    "    if(i==-1):\n",
    "        print(\"L'étudiant n'existe pas\")\n",
    "    else:\n",
    "        t.remove(t[i])\n",
    "        print(\"L'étudiant\",n,p,\"a été supprimé\")"
   ]
  },
  {
   "cell_type": "code",
   "execution_count": 18,
   "metadata": {},
   "outputs": [],
   "source": [
    "def Mofification_etu(t,n,p):\n",
    "    i=Recherche_etu(t,n,p)\n",
    "    if(i==-1):\n",
    "        print(\"L'étudiant n'existe pas\")\n",
    "    else:\n",
    "        t.remove(t[i])\n",
    "        Ajout_etu(t)"
   ]
  },
  {
   "cell_type": "code",
   "execution_count": 21,
   "metadata": {},
   "outputs": [
    {
     "name": "stdout",
     "output_type": "stream",
     "text": [
      "Que voulez-vous faire ?\n",
      "Tapez :\n",
      "1 pour stocker l'ensemble des étudiants\n",
      "2 pour ajouter un étudiant\n",
      "3 pour afficher les étudiants\n",
      "4 pour rechercher un étudiant\n",
      "5 pour supprimer un étudiant\n",
      "6 pour modifier un étudiant\n",
      "O pour sortir du programme\n",
      "Fin du programme\n"
     ]
    }
   ],
   "source": [
    "Tab_etu=[]\n",
    "choix=1\n",
    "while choix!=0:\n",
    "    print(\"Que voulez-vous faire ?\")\n",
    "    print(\"Tapez :\")\n",
    "    print(\"1 pour stocker l'ensemble des étudiants\")\n",
    "    print(\"2 pour ajouter un étudiant\")\n",
    "    print(\"3 pour afficher les étudiants\")\n",
    "    print(\"4 pour rechercher un étudiant\")\n",
    "    print(\"5 pour supprimer un étudiant\")\n",
    "    print(\"6 pour modifier un étudiant\")\n",
    "    print(\"O pour sortir du programme\")\n",
    "    value=input()\n",
    "    try:\n",
    "        choix=int(value)\n",
    "    except ValueError:\n",
    "        print(\"Erreur vous devez saisir un entier\")\n",
    "    if choix==1:\n",
    "        Stockage_etu(Tab_etu)\n",
    "    elif choix==2:\n",
    "        Ajout_etu(Tab_etu)\n",
    "    elif choix==3:\n",
    "        Affichage_etu(Tab_etu)\n",
    "    elif choix==0:\n",
    "        print(\"Fin du programme\")\n",
    "    elif choix>=4 and choix<=6:\n",
    "        n=input(\"Donnez le nom\")\n",
    "        p=input(\"Donnez le prénom\")\n",
    "        if choix==4:\n",
    "            i=Recherche_etu(Tab_etu,n,p)\n",
    "            if i!=-1:\n",
    "                print(Tab_etu[i])\n",
    "            else:\n",
    "                print(\"L'étudiant n'existe pas\")\n",
    "        elif choix==5:\n",
    "            Suppression_etu(Tab_etu,n,p)\n",
    "        elif choix==6:\n",
    "            Mofification_etu(Tab_etu,n,p)\n",
    "    else:\n",
    "        print(\"Donner un entier entre 0 et 6\")"
   ]
  },
  {
   "cell_type": "markdown",
   "metadata": {},
   "source": [
    "### Exercice n°3"
   ]
  },
  {
   "cell_type": "markdown",
   "metadata": {},
   "source": [
    "On dispose d’un tableau dont chaque élément possède la structure suivante :\n",
    "\n",
    "    type Objet élève\n",
    "        nom : chaîne\n",
    "        prenom : chaîne\n",
    "        math : réel\n",
    "        physique : réel\n",
    "        français : réel\n",
    "\n",
    "Ecrire un programme Python qui exploite ce tableau pour afficher la liste des étudiants avec\n",
    "leur note en Maths, en Physique, en Français, ainsi que leur moyenne.\n",
    "Par exemple, nous pourrions avoir les informations suivantes :\n"
   ]
  },
  {
   "cell_type": "markdown",
   "metadata": {},
   "source": [
    "![Illustration](../images/TD9.png \"Illustration\")"
   ]
  },
  {
   "cell_type": "markdown",
   "metadata": {},
   "source": [
    "On supposera que le nombre d’élèves est inférieur ou égal à 100."
   ]
  },
  {
   "cell_type": "code",
   "execution_count": 29,
   "metadata": {},
   "outputs": [],
   "source": [
    "class Eleve:\n",
    "    def __init__(self,nom,prenom,math,physique,français):\n",
    "        self.nom=nom\n",
    "        self.prenom=prenom\n",
    "        self.math=math\n",
    "        self.physique=physique\n",
    "        self.français=français"
   ]
  },
  {
   "cell_type": "code",
   "execution_count": 32,
   "metadata": {},
   "outputs": [],
   "source": [
    "def Ajout_note(ta):\n",
    "    e=Eleve(\n",
    "        nom=input(\"Donnez le nom\"),\n",
    "        prenom=input(\"Donnez le prénom\"),\n",
    "        math=float(input(\"Donnez la note en Math\")),\n",
    "        physique=float(input(\"Donner la note en Physique\")),\n",
    "        français=float(input(\"Donner la note en Français\"))\n",
    "    )\n",
    "    ta.append(e)"
   ]
  },
  {
   "cell_type": "code",
   "execution_count": 24,
   "metadata": {},
   "outputs": [],
   "source": [
    "def Affichage_note(ta):\n",
    "    if not ta:\n",
    "        print(\"Il n'y a aucun élément à afficher\")\n",
    "    else:\n",
    "        print(\"Nom  |   Prénom  |   Math    |   Physique    |   Français    |   Moyenne\")\n",
    "        print(\"------------------------------------------------------------------------\")\n",
    "        m,p,f=0\n",
    "        for i in range(len(ta)):\n",
    "            m+=ta[i].math\n",
    "            p+=ta[i].physique\n",
    "            f+=ta[i].français\n",
    "            print(ta[i].nom,\"   |   \",ta[i].prenom,\"    |   \",ta[i].math,\"    |   \",ta[i].physique,\"    |   \",ta[i].français,end=\"  |   \")\n",
    "            print((ta[i].math+ta[i].physique+ta[i].français)/3)\n",
    "            print(\"------------------------------------------------------------------------\")\n",
    "            print(\"Moyenne  |   \",m/len(ta),\"   |   \",p/len(ta),\"   |   \",f/len(ta))"
   ]
  },
  {
   "cell_type": "markdown",
   "metadata": {},
   "source": [
    "## TD 13"
   ]
  },
  {
   "cell_type": "markdown",
   "metadata": {},
   "source": [
    "### Exercice n°1\n"
   ]
  },
  {
   "cell_type": "markdown",
   "metadata": {},
   "source": [
    "On souhaite pouvoir gérer des commandes de pizzas, dans une micro entreprise gérée par deux jeunes auto entrepreneurs sympathiques, mais sans beaucoup de moyens (Camille et Léon). Il n’y a que 4 types de pizzas possibles : Margarita, Regina, Reine, et Calzone. Le nombre maximum de commandes prises en compte chaque jour est de 255. Une commande sera définie uniquement par un numéro, représentée par un entier. On aurait pu associer à ce numéro des caractéristiques associées, telles que nom, prénom, email, adresse, téléphone du client, mais nous ne vous le demandons pas (nous garderons donc simplement un numéro allant de 1 à 255, afin\n",
    "de simplifier le problème). \n",
    "   \n",
    "On peut à tout moment ajouter de nouvelles commandes, ou en supprimer, pour chacune\n",
    "des pizzas vendues par cette entreprise (Regina, Margarita, Reine et Calzone). Bref, cet ensemble\n",
    "de commandes évolue constamment, pour chaque type de pizzas. Un client pourra commander\n",
    "plusieurs types de pizzas lors d’une même commande (mais une seule pizza par type, le système\n",
    "ne sachant pas gérer le nombre d’exemplaires souhaités). Dans ce cas, le même numéro de\n",
    "commande sera utilisé pour chaque type de pizza."
   ]
  },
  {
   "cell_type": "markdown",
   "metadata": {},
   "source": [
    "#### A_"
   ]
  },
  {
   "cell_type": "markdown",
   "metadata": {},
   "source": [
    "1. Définir le type de données à utiliser et la déclaration de variables pour ce problème."
   ]
  },
  {
   "cell_type": "markdown",
   "metadata": {},
   "source": [
    "    \n",
    "    max_com, idcurent : entiers\n",
    "    reg,rei,marg,cal : ensembles"
   ]
  },
  {
   "cell_type": "code",
   "execution_count": 10,
   "metadata": {},
   "outputs": [],
   "source": [
    "Reg=set([])\n",
    "Rei=set([])\n",
    "Marg=set([])\n",
    "Cal=set([])\n",
    "id_current=0\n",
    "max_com=255"
   ]
  },
  {
   "cell_type": "markdown",
   "metadata": {},
   "source": [
    "2. Ecrire un algorithme pour ajouter une commande de pizza (Reine, Regina, Margarita,\n",
    "Calzone)."
   ]
  },
  {
   "cell_type": "code",
   "execution_count": 20,
   "metadata": {},
   "outputs": [],
   "source": [
    "def passer_commande():\n",
    "    global id_current\n",
    "    choix=0\n",
    "    while choix!=5:\n",
    "        print(\"Choisissez vos pizzas : Regina(1), Reine(2), Margarita(3), Calzone(4)\")\n",
    "        choix=int(input())\n",
    "        if choix==1:\n",
    "            Reg.add(id_current)\n",
    "        elif choix==2:\n",
    "            Rei.add(id_current)\n",
    "        elif choix==3:\n",
    "            Marg.add(id_current)\n",
    "        elif choix==4:\n",
    "            Cal.add(id_current)\n",
    "        elif choix==5:\n",
    "            print(\"Fin de la commande\")\n",
    "        else:\n",
    "            print(\"Erreur : donnez un choix comprix entre 1 et 5\")\n",
    "    idcurrent=id_current+1\n"
   ]
  },
  {
   "cell_type": "markdown",
   "metadata": {},
   "source": [
    "3. Ecrire un algorithme permettant de supprimer une commande de pizza (Reine, Regina, …)."
   ]
  },
  {
   "cell_type": "code",
   "execution_count": 21,
   "metadata": {},
   "outputs": [],
   "source": [
    "def supprimer_commande(cmd_id):\n",
    "    found=0\n",
    "    if cmd_id in Reg:\n",
    "        Reg.remove(cmd_id)\n",
    "        found=1\n",
    "    if cmd_id in Rei:\n",
    "        Rei.remove(cmd_id)\n",
    "        found=1\n",
    "    if cmd_id in Marg:\n",
    "        Marg.remove(cmd_id)\n",
    "        found=1\n",
    "    if cmd_id in Cal:\n",
    "        Cal.remove(cmd_id)\n",
    "        found=1\n",
    "    if found==1:\n",
    "        print(\"La commande a été supprimée\")\n",
    "    else:\n",
    "        print(\"La commande à supprimer n'a pas été trouvée\")\n",
    "    "
   ]
  },
  {
   "cell_type": "code",
   "execution_count": 22,
   "metadata": {},
   "outputs": [],
   "source": [
    "def Affichage():\n",
    "    print(\"Regina :\", Reg)\n",
    "    print(\"Reine :\", Rei)\n",
    "    print(\"Margarita:\", Marg)\n",
    "    print(\"Calzone\", Cal)"
   ]
  },
  {
   "cell_type": "code",
   "execution_count": 23,
   "metadata": {},
   "outputs": [],
   "source": [
    "def Menu():\n",
    "    print(\"Tapez 1 pour ajouter une commande\")\n",
    "    print(\"Tapez 2 pour supprimer une commande\")\n",
    "    print(\"Tapez 3 pour afficher les commandes\")\n",
    "    print(\"Tapez 4 pour trouver les commandes comportant les 4 types de pizzas\")\n",
    "    print(\"Tapez 5 pour trouver les commandes pour des Reginas et des Margaritas mais pas des Reines ni des Calzones\")\n",
    "    print(\"Tapez 0 pour quitter\")\n",
    "    print(\"Entrez votre choix\")"
   ]
  },
  {
   "cell_type": "markdown",
   "metadata": {},
   "source": [
    "4) Ecrire un algorithme qui détermine l’ensemble des commandes dans lesquelles le client souhaite obtenir les 4 types de pizzas (même numéro de commande pour chacune des 4 pizzas).\n"
   ]
  },
  {
   "cell_type": "code",
   "execution_count": 24,
   "metadata": {},
   "outputs": [],
   "source": [
    "def Toutes_pizzas():\n",
    "    print(\"Numéros des commandes comportant les 4 types de pizzas :\")\n",
    "    print(Reg.intersection(Rei,Marg,Cal))"
   ]
  },
  {
   "cell_type": "markdown",
   "metadata": {},
   "source": [
    "5) Comment rechercher les commandes passées pour avoir des Reginas et des Margaritas mais pas des Reines ni des Calzones ?\n"
   ]
  },
  {
   "cell_type": "code",
   "execution_count": 47,
   "metadata": {},
   "outputs": [],
   "source": [
    "def Reg_et_Marg():\n",
    "    print(\"Numéros des commandes passées pour des Réginas et des Margarita mais pas des Reines ni des Calzones :\")\n",
    "    print(Reg.intersection(Marg)-Rei-Cal)"
   ]
  },
  {
   "cell_type": "code",
   "execution_count": 48,
   "metadata": {},
   "outputs": [
    {
     "name": "stdout",
     "output_type": "stream",
     "text": [
      "Tapez 1 pour ajouter une commande\n",
      "Tapez 2 pour supprimer une commande\n",
      "Tapez 3 pour afficher les commandes\n",
      "Tapez 4 pour trouver les commandes comportant les 4 types de pizzas\n",
      "Tapez 5 pour trouver les commandes pour des Reginas et des Margaritas mais pas des Reines ni des Calzones\n",
      "Tapez 0 pour quitter\n",
      "Entrez votre choix\n",
      "Fin du programme\n"
     ]
    }
   ],
   "source": [
    "choix=1\n",
    "while(choix!=0):\n",
    "    Menu()\n",
    "    choix=int(input())\n",
    "    if choix==1:\n",
    "        if id_current>=max_com:\n",
    "            print(\"Erreur : nombre maximum de commandes atteint\")\n",
    "        else:\n",
    "            passer_commande()\n",
    "    elif choix==2:\n",
    "        print(\"Donnez le numéro de la commande\")\n",
    "        cmd=int(input())\n",
    "        supprimer_commande(cmd)\n",
    "    elif choix==3:\n",
    "        Affichage()\n",
    "    elif choix==4:\n",
    "        Toutes_pizzas()\n",
    "    elif choix==5:\n",
    "        Reg_et_Marg()\n",
    "    elif choix==0:\n",
    "        print(\"Fin du programme\")\n",
    "    else:\n",
    "        print(\"Erreur de saisie\")\n"
   ]
  },
  {
   "cell_type": "markdown",
   "metadata": {},
   "source": [
    "#### B_"
   ]
  },
  {
   "cell_type": "markdown",
   "metadata": {},
   "source": [
    "Reprendre l’exercice en associant, cette fois-ci, les caractéristiques du client : nom, prénom, email, adresse, téléphone"
   ]
  },
  {
   "cell_type": "code",
   "execution_count": 49,
   "metadata": {},
   "outputs": [],
   "source": [
    "Liste=[]"
   ]
  },
  {
   "cell_type": "code",
   "execution_count": 50,
   "metadata": {},
   "outputs": [],
   "source": [
    "def Stockage(commande):\n",
    "    if commande in Liste:\n",
    "        print(\"La commande est déjà enregistrée\")\n",
    "    else:\n",
    "        Liste.append(commande)\n",
    "        print(\"Une commande a été enregistrée\")"
   ]
  },
  {
   "cell_type": "code",
   "execution_count": 51,
   "metadata": {},
   "outputs": [],
   "source": [
    "def Saisie():\n",
    "    commande={}\n",
    "    print(\"Donnez les informations relatives à une commande\")\n",
    "    commande[\"nom\"]=input(\"Nom du client :\")\n",
    "    commande[\"prénom\"]=input(\"Prénom du client :\")\n",
    "    commande[\"email\"]=input(\"Email du client :\")\n",
    "    commande[\"adresse\"]=input(\"Adresse du client :\")\n",
    "    commande[\"tel\"]=input(\"Numéro de téléphone du client :\")\n",
    "    Stockage(commande)"
   ]
  },
  {
   "cell_type": "code",
   "execution_count": 52,
   "metadata": {},
   "outputs": [],
   "source": [
    "def Reg_et_Marg2():\n",
    "    print(\"Numéros des commandes passées pour des Réginas et des Margarita mais pas des Reines ni des Calzones :\")\n",
    "    temp=Reg.intersection(Marg)-Rei-Cal\n",
    "    for i in range(len(Liste)):\n",
    "        if i in temp:\n",
    "            print(Liste[i][\"nom\"])"
   ]
  },
  {
   "cell_type": "code",
   "execution_count": 53,
   "metadata": {},
   "outputs": [],
   "source": [
    "def Toutes_pizzas2():\n",
    "    print(\"Numéros des commandes comportant les 4 types de pizzas :\")\n",
    "    temp=Reg.intersection(Rei,Marg,Cal)\n",
    "    for i in range(len(Liste)):\n",
    "        if i in temp:\n",
    "            print(Liste[i][\"nom\"])"
   ]
  },
  {
   "cell_type": "code",
   "execution_count": 54,
   "metadata": {},
   "outputs": [],
   "source": [
    "def Affichage2():\n",
    "    print(\"Regina :\")\n",
    "    for i in range(len(Liste)):\n",
    "        if i in Reg:\n",
    "            print(Liste[i][\"nom\"])\n",
    "    print(\"Reine :\")\n",
    "    for i in range(len(Liste)):\n",
    "        if i in Rei:\n",
    "            print(Liste[i][\"nom\"])\n",
    "    print(\"Margarita:\")\n",
    "    for i in range(len(Liste)):\n",
    "        if i in Marg:\n",
    "            print(Liste[i][\"nom\"])\n",
    "    print(\"Calzone\")\n",
    "    for i in range(len(Liste)):\n",
    "        if i in Cal:\n",
    "            print(Liste[i][\"nom\"])"
   ]
  },
  {
   "cell_type": "markdown",
   "metadata": {},
   "source": [
    "Réécrire programme principal adapté"
   ]
  },
  {
   "cell_type": "markdown",
   "metadata": {},
   "source": [
    "### Exercice n°3"
   ]
  },
  {
   "cell_type": "markdown",
   "metadata": {},
   "source": [
    "La FFD (Fédération Française de Danse) souhaite pouvoir gérer les inscriptions aux compétitions de danse sportive. Il y a deux sortes de danses :\n",
    "- danses Latines (Samba, Cha Cha, Rumba, Paso Doble et Jive)\n",
    "- danses Standards (Valse anglaise, Tango, Valse Viennoise, Slow Foxtrot et Quickstep).  \n",
    "\n",
    "Une manifestation sportive peut regrouper plusieurs compétitions (maximum 50), réparties par catégories d’âge (juvéniles, junior, youth, adultes, senior…) et des catégories de niveau : F, E, D, C, B, A, Open (toutes séries confondues). On a par exemple des compétitions en senior latines série B, open junior standards, adultes standards série C, Youth latines série E…  \n",
    "Chaque compétition est identifiée par un numéro, compris entre 1 et 50.  \n",
    "\n",
    "Les danseurs sont inscrits par couples, identifiés par leur numéro de dossard.\n",
    "Pour simplifier le problème, nous supposerons qu’il n’y a que 120 couples maximum dans une même manifestation sportive (en réalité, il y en a beaucoup plus…).\n",
    "Un couple est défini par son numéro de dossard, le nom et prénom du danseur et de la danseuse, leur classement national, leur classement international, l’adresse email du danseur et celle de la danseuse, leur série en danse standards et leur série en danses latines, leur catégorie d’âge…  \n",
    "Les Couples peuvent être inscrits à une ou à plusieurs compétitions (par exemple Adulte latines série C, Open adultes standards, Open adultes latines, Adultes standards série B…)\n",
    "Bien entendu, une même compétition regroupe plusieurs couples (une centaine, au maximum)."
   ]
  },
  {
   "cell_type": "markdown",
   "metadata": {},
   "source": [
    "1) Définir le type de données à utiliser et les déclarations de variables pour ce problème."
   ]
  },
  {
   "cell_type": "code",
   "execution_count": 55,
   "metadata": {},
   "outputs": [],
   "source": [
    "max_couples=120\n",
    "class couple:\n",
    "    def __init__(self,num_dos,prenom_danseur,nom_danseur,prenom_danseuse,nom_danseuse,mail_danseur,mail_danseuse,classement_nat,classement_inter,serie_standard,seri_latine,cat_age):\n",
    "        self.num_dos=num_dos\n",
    "        self.prenom_danseur=prenom_danseur\n",
    "        self.nom_danseur=nom_danseur\n",
    "        self.mail_danseur=mail_danseur\n",
    "        self.prenom_danseuse=prenom_danseuse\n",
    "        self.nom_danseus=nom_danseuse\n",
    "        self.mail_danseuse=mail_danseuse\n",
    "        self.classement_nat=classement_nat\n",
    "        self.classement_inter=classement_inter\n",
    "        self.serie_standard=serie_standard\n",
    "        self.serie_latine=seri_latine\n",
    "        self.cat_age=cat_age\n",
    "class competition:\n",
    "    def __init__(self,ident,cat_age,serie,danse,inscrits):\n",
    "        self.ident=ident\n",
    "        self.cat_age=cat_age\n",
    "        self.serie=serie\n",
    "        self.danse=danse\n",
    "        self.inscrits=inscrits\n",
    "Couples=[]\n",
    "Competitions=[]"
   ]
  },
  {
   "cell_type": "markdown",
   "metadata": {},
   "source": [
    "2) Ecrire une fonction en PYTHON pour inscrire un couple (), à partir de son numéro de dossard) dans une compétition donnée (définie par son numéro"
   ]
  },
  {
   "cell_type": "code",
   "execution_count": 56,
   "metadata": {},
   "outputs": [],
   "source": [
    "def find_competition(id_compet):\n",
    "    competition=-1\n",
    "    for i in range(len(Competitions)):\n",
    "        if Competitions[i].ident==id_compet:\n",
    "            competion=i\n",
    "    return competition"
   ]
  },
  {
   "cell_type": "code",
   "execution_count": 57,
   "metadata": {},
   "outputs": [],
   "source": [
    "def find_couple(id_cp):\n",
    "    cp=-1\n",
    "    for i in range (len(Couples)):\n",
    "        if Couples[i].num_doss==id_cp:\n",
    "            cp=i\n",
    "    return cp"
   ]
  },
  {
   "cell_type": "code",
   "execution_count": 58,
   "metadata": {},
   "outputs": [],
   "source": [
    "def Inscription_Competition(num_dos, id_compet):\n",
    "    compet=find_competition(id_compet)\n",
    "    if compet==-1:\n",
    "        print(\"Cette compétion n'existe pas\")\n",
    "    else:\n",
    "        cp=find_couple(num_dos)\n",
    "        if cp==-1:\n",
    "            print(\"Le numéro de dossard est inconnu\")\n",
    "        else:\n",
    "            if cp in Competitions[compet].inscrits:\n",
    "                print(\"Le couple est déjà inscrit à cette compétition\")\n",
    "            else:\n",
    "                Competitions[compet].inscrits.add(cp)\n",
    "                print(\"L'inscription a été effectuée\")\n"
   ]
  },
  {
   "cell_type": "markdown",
   "metadata": {},
   "source": [
    "3) Ecrire une fonction en PYTHON permettant de retirer un couple (pour cause de blessure, de désistement ou de disqualification) d’une compétition donnée, identifiée par son numéro. On utilisera son numéro de dossard du couple."
   ]
  },
  {
   "cell_type": "code",
   "execution_count": 59,
   "metadata": {},
   "outputs": [],
   "source": [
    "def Desinscription_Competion(num_dos,id_compet):\n",
    "    compet=find_competition(id_compet)\n",
    "    if compet==-1:\n",
    "        print(\"Cette compétion n'existe pas\")\n",
    "    else:\n",
    "        cp=find_couple(num_dos)\n",
    "        if cp==-1:\n",
    "            print(\"Le numéro de dossard est inconnu\")\n",
    "        else:\n",
    "            if cp in Competitions[compet].inscrits:\n",
    "                Competitions[compet].inscrits.remove(cp)\n",
    "                print(\"Desinscription effectuée\")\n",
    "            else:\n",
    "                print(\"Le couple est absent de cette compétition\")"
   ]
  },
  {
   "cell_type": "markdown",
   "metadata": {},
   "source": [
    "4) Réaliser une fonction en PYTHON pour rechercher le nom et prénom et adresse email des couples inscrits dans deux compétitions données. Par exemple, qui est à la fois en senior B latines (compétition n°5) et en Open senior Standards (compétitions n°36) ?"
   ]
  },
  {
   "cell_type": "code",
   "execution_count": 61,
   "metadata": {},
   "outputs": [],
   "source": [
    "def Recherche_Couple_Commun(idcomp1,idcomp2):\n",
    "    comp1=find_competition(idcomp1)\n",
    "    comp2=find_competition(idcomp2)\n",
    "    if comp1!=-1 and comp2!=-1:\n",
    "        Inter_comp=Competitions[comp1].inscrits.intersection(Competitions[comp2].inscrits)\n",
    "        print(Inter_comp)\n",
    "    else:\n",
    "        print(\"Une des deux compétitions n'existe pas\")"
   ]
  },
  {
   "cell_type": "markdown",
   "metadata": {},
   "source": [
    "5) Ecrire une fonction en PYTHON pour rechercher les couples (nom, prénom et adresse email) inscrits dans une compétition mais pas dans une autre. Par exemple, qui est en senior B latines (compétition n°5) mais pas en Open senior Standards (compétitions n°36) ?"
   ]
  },
  {
   "cell_type": "code",
   "execution_count": 62,
   "metadata": {},
   "outputs": [],
   "source": [
    "def Recherche_Couple_Commun(idcomp1,idcomp2):\n",
    "    comp1=find_competition(idcomp1)\n",
    "    comp2=find_competition(idcomp2)\n",
    "    if comp1!=-1 and comp2!=-1:\n",
    "        Comp_temp=Competitions[comp1].inscrits-Competitions[comp2].inscrits\n",
    "        print(Comp_temp)\n",
    "    else:\n",
    "        print(\"Une des deux compétitions n'existe pas\")"
   ]
  },
  {
   "cell_type": "code",
   "execution_count": null,
   "metadata": {},
   "outputs": [],
   "source": []
  }
 ],
 "metadata": {
  "hide_input": false,
  "kernelspec": {
   "display_name": "Python 3",
   "language": "python",
   "name": "python3"
  },
  "language_info": {
   "codemirror_mode": {
    "name": "ipython",
    "version": 3
   },
   "file_extension": ".py",
   "mimetype": "text/x-python",
   "name": "python",
   "nbconvert_exporter": "python",
   "pygments_lexer": "ipython3",
   "version": "3.9.6"
  },
  "toc": {
   "base_numbering": 1,
   "nav_menu": {},
   "number_sections": true,
   "sideBar": true,
   "skip_h1_title": false,
   "title_cell": "Table of Contents",
   "title_sidebar": "Contents",
   "toc_cell": false,
   "toc_position": {},
   "toc_section_display": true,
   "toc_window_display": false
  },
  "varInspector": {
   "cols": {
    "lenName": 16,
    "lenType": 16,
    "lenVar": 40
   },
   "kernels_config": {
    "python": {
     "delete_cmd_postfix": "",
     "delete_cmd_prefix": "del ",
     "library": "var_list.py",
     "varRefreshCmd": "print(var_dic_list())"
    },
    "r": {
     "delete_cmd_postfix": ") ",
     "delete_cmd_prefix": "rm(",
     "library": "var_list.r",
     "varRefreshCmd": "cat(var_dic_list()) "
    }
   },
   "types_to_exclude": [
    "module",
    "function",
    "builtin_function_or_method",
    "instance",
    "_Feature"
   ],
   "window_display": false
  }
 },
 "nbformat": 4,
 "nbformat_minor": 2
}
